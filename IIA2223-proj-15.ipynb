{
 "cells": [
  {
   "cell_type": "markdown",
   "metadata": {
    "colab_type": "text",
    "id": "LekFEsVbua_R"
   },
   "source": [
    "#  Jogo BreakThrough\n",
    "\n",
    "## Introdução à Inteligência Artificial edição 2022/23\n",
    "### Projeto para avaliação\n",
    "\n",
    "<img src=\".\\images\\Picture0.png\" alt=\"Drawing\" style=\"width: 200px;\"/>"
   ]
  },
  {
   "cell_type": "markdown",
   "metadata": {},
   "source": [
    "### Grupo: 15\n",
    "\n",
    "#### Elementos do Grupo\n",
    "\n",
    "Nome: João Ricardo Silva Matos\n",
    "\n",
    "Número: 56292\n",
    "\n",
    "Nome: Tomás Alexandre Regolta Barreto\n",
    "\n",
    "Número: 56282\n",
    "\n",
    "Nome: Diogo José Madureira Pereira\n",
    "\n",
    "Número: 56302"
   ]
  },
  {
   "cell_type": "markdown",
   "metadata": {},
   "source": [
    "## Introdução\n",
    "Este é um esqueleto do relatório que podem naturalmente expandir, colocando mais células de texto e/ou de código."
   ]
  },
  {
   "cell_type": "markdown",
   "metadata": {},
   "source": [
    "## Formulação do Jogo BreakThrough em termos de estados e de operadores"
   ]
  },
  {
   "cell_type": "markdown",
   "metadata": {},
   "source": [
    "### Descrição da representação dos estados do jogo"
   ]
  },
  {
   "cell_type": "code",
   "execution_count": 1,
   "metadata": {},
   "outputs": [],
   "source": [
    "from jogar import *\n",
    "from jogos import *\n",
    "jogo = __import__(\"IIA2223-proj-tudo-15\")"
   ]
  },
  {
   "cell_type": "markdown",
   "metadata": {},
   "source": [
    "O estado é representado por um `namedtuple`, da seguinte forma:\n",
    "\n",
    "`namedtuple('EstadoJogo_15',['to_move', 'white', 'black'])`\n",
    "\n",
    "Onde `EstadoJogo_15` é o nome da classe que representa o estado, `to_move` representa o próximo jogador a mover uma peça, `white` e `black` são listas que contêm as posições das peças brancas e pretas, respetivamente, na forma `(x,y)`, onde `x` representa a linha e `y` a coluna. Por exemplo, o estado inicial é representado da seguinte forma:\n",
    "\n",
    "`EstadoJogo_15(1, [('a',1),('b',1),('c',1),('d',1),('e',1),('f',1),('g',1),('h',1),`<br>\n",
    "           &emsp; `('a',2),('b',2),('c',2),('d',2),('e',2),('f',2),('g',2),('h',2) ],`<br>\n",
    "           &emsp;`[('a',n-1),('b',n-1),('c',n-1),('d',n-1),('e',n-1),('f',n-1),('g',n-1),('h',n-1),`<br>\n",
    "           &emsp; `('a',n),('b',n),('c',n),('d',n),('e',n),('f',n),('g',n),('h',n)], )`"
   ]
  },
  {
   "cell_type": "markdown",
   "metadata": {},
   "source": [
    "### Testes da formulação"
   ]
  },
  {
   "cell_type": "markdown",
   "metadata": {},
   "source": [
    "#### Situações iniciais dos jogos\n",
    "Uso do construtor e \"display\" de jogos iniciais"
   ]
  },
  {
   "cell_type": "markdown",
   "metadata": {},
   "source": [
    "Construção de um novo jogo com a situação inicial seguinte:\n",
    "\n",
    "<img src=\".\\images\\Picture1.png\" alt=\"Drawing\" style=\"width: 150px;\"/>\n",
    "<p style=\"text-align: center;\">Figura 1</p>"
   ]
  },
  {
   "cell_type": "code",
   "execution_count": 2,
   "metadata": {},
   "outputs": [],
   "source": [
    "tabuleiro = jogo.JogoBT_15()"
   ]
  },
  {
   "cell_type": "markdown",
   "metadata": {},
   "source": [
    "Eis o display desse estado inicial do jogo:"
   ]
  },
  {
   "cell_type": "code",
   "execution_count": 3,
   "metadata": {},
   "outputs": [
    {
     "name": "stdout",
     "output_type": "stream",
     "text": [
      "-----------------\n",
      "8|B B B B B B B B \n",
      "7|B B B B B B B B \n",
      "6|. . . . . . . . \n",
      "5|. . . . . . . . \n",
      "4|. . . . . . . . \n",
      "3|. . . . . . . . \n",
      "2|W W W W W W W W \n",
      "1|W W W W W W W W \n",
      "-+---------------\n",
      " |a b c d e f g h\n",
      "--NEXT PLAYER: W\n"
     ]
    }
   ],
   "source": [
    "tabuleiro.display(tabuleiro.initial)"
   ]
  },
  {
   "cell_type": "markdown",
   "metadata": {},
   "source": [
    "## Jogos entre jogadores simples\n",
    "Nesta secção irão realizar alguns jogos, para verificar a modelização"
   ]
  },
  {
   "cell_type": "code",
   "execution_count": 4,
   "metadata": {},
   "outputs": [],
   "source": [
    "jogo1 = joga11(tabuleiro,JogadorAlfaBeta(\"Random\", 1, jogo.aleatorio_15),JogadorAlfaBeta(\"Belarmino\", 1, jogo.belarmino_15))\n",
    "jogo2 = joga11(tabuleiro,JogadorAlfaBeta(\"Eder\", 1, jogo.eder_15),JogadorAlfaBeta(\"Rui Patricio\", 1, jogo.ruiPatricio_15))\n",
    "jogo3 = joga11(tabuleiro,JogadorAlfaBeta(\"Pepe\", 1, jogo.pepe_15),JogadorAlfaBeta(\"jogadorBT_15\", 1, jogo.func_aval_15))"
   ]
  },
  {
   "cell_type": "markdown",
   "metadata": {},
   "source": [
    "Faça o display de um dos jogos realizados atrás"
   ]
  },
  {
   "cell_type": "code",
   "execution_count": 5,
   "metadata": {},
   "outputs": [
    {
     "name": "stdout",
     "output_type": "stream",
     "text": [
      "Random vs Belarmino\n",
      "-----------------\n",
      "8|B B B B B B B B \n",
      "7|B B B B B B B B \n",
      "6|. . . . . . . . \n",
      "5|. . . . . . . . \n",
      "4|. . . . . . . . \n",
      "3|. . . . . . . . \n",
      "2|W W W W W W W W \n",
      "1|W W W W W W W W \n",
      "-+---------------\n",
      " |a b c d e f g h\n",
      "--NEXT PLAYER: W\n",
      "\n",
      "-->  a2-b3\n",
      "\n",
      "-----------------\n",
      "8|B B B B B B B B \n",
      "7|B B B B B B B B \n",
      "6|. . . . . . . . \n",
      "5|. . . . . . . . \n",
      "4|. . . . . . . . \n",
      "3|. W . . . . . . \n",
      "2|. W W W W W W W \n",
      "1|W W W W W W W W \n",
      "-+---------------\n",
      " |a b c d e f g h\n",
      "--NEXT PLAYER: B\n",
      "\n",
      "-->  g7-f6\n",
      "\n",
      "-----------------\n",
      "8|B B B B B B B B \n",
      "7|B B B B B B . B \n",
      "6|. . . . . B . . \n",
      "5|. . . . . . . . \n",
      "4|. . . . . . . . \n",
      "3|. W . . . . . . \n",
      "2|. W W W W W W W \n",
      "1|W W W W W W W W \n",
      "-+---------------\n",
      " |a b c d e f g h\n",
      "--NEXT PLAYER: W\n",
      "\n",
      "-->  d2-e3\n",
      "\n",
      "-----------------\n",
      "8|B B B B B B B B \n",
      "7|B B B B B B . B \n",
      "6|. . . . . B . . \n",
      "5|. . . . . . . . \n",
      "4|. . . . . . . . \n",
      "3|. W . . W . . . \n",
      "2|. W W . W W W W \n",
      "1|W W W W W W W W \n",
      "-+---------------\n",
      " |a b c d e f g h\n",
      "--NEXT PLAYER: B\n",
      "\n",
      "-->  f6-e5\n",
      "\n",
      "-----------------\n",
      "8|B B B B B B B B \n",
      "7|B B B B B B . B \n",
      "6|. . . . . . . . \n",
      "5|. . . . B . . . \n",
      "4|. . . . . . . . \n",
      "3|. W . . W . . . \n",
      "2|. W W . W W W W \n",
      "1|W W W W W W W W \n",
      "-+---------------\n",
      " |a b c d e f g h\n",
      "--NEXT PLAYER: W\n",
      "\n",
      "-->  d1-d2\n",
      "\n",
      "-----------------\n",
      "8|B B B B B B B B \n",
      "7|B B B B B B . B \n",
      "6|. . . . . . . . \n",
      "5|. . . . B . . . \n",
      "4|. . . . . . . . \n",
      "3|. W . . W . . . \n",
      "2|. W W W W W W W \n",
      "1|W W W . W W W W \n",
      "-+---------------\n",
      " |a b c d e f g h\n",
      "--NEXT PLAYER: B\n",
      "\n",
      "-->  e5-e4\n",
      "\n",
      "-----------------\n",
      "8|B B B B B B B B \n",
      "7|B B B B B B . B \n",
      "6|. . . . . . . . \n",
      "5|. . . . . . . . \n",
      "4|. . . . B . . . \n",
      "3|. W . . W . . . \n",
      "2|. W W W W W W W \n",
      "1|W W W . W W W W \n",
      "-+---------------\n",
      " |a b c d e f g h\n",
      "--NEXT PLAYER: W\n",
      "\n",
      "-->  f2-f3\n",
      "\n",
      "-----------------\n",
      "8|B B B B B B B B \n",
      "7|B B B B B B . B \n",
      "6|. . . . . . . . \n",
      "5|. . . . . . . . \n",
      "4|. . . . B . . . \n",
      "3|. W . . W W . . \n",
      "2|. W W W W . W W \n",
      "1|W W W . W W W W \n",
      "-+---------------\n",
      " |a b c d e f g h\n",
      "--NEXT PLAYER: B\n",
      "\n",
      "-->  a7-b6\n",
      "\n",
      "-----------------\n",
      "8|B B B B B B B B \n",
      "7|. B B B B B . B \n",
      "6|. B . . . . . . \n",
      "5|. . . . . . . . \n",
      "4|. . . . B . . . \n",
      "3|. W . . W W . . \n",
      "2|. W W W W . W W \n",
      "1|W W W . W W W W \n",
      "-+---------------\n",
      " |a b c d e f g h\n",
      "--NEXT PLAYER: W\n",
      "\n",
      "-->  g2-g3\n",
      "\n",
      "-----------------\n",
      "8|B B B B B B B B \n",
      "7|. B B B B B . B \n",
      "6|. B . . . . . . \n",
      "5|. . . . . . . . \n",
      "4|. . . . B . . . \n",
      "3|. W . . W W W . \n",
      "2|. W W W W . . W \n",
      "1|W W W . W W W W \n",
      "-+---------------\n",
      " |a b c d e f g h\n",
      "--NEXT PLAYER: B\n",
      "\n",
      "-->  b6-a5\n",
      "\n",
      "-----------------\n",
      "8|B B B B B B B B \n",
      "7|. B B B B B . B \n",
      "6|. . . . . . . . \n",
      "5|B . . . . . . . \n",
      "4|. . . . B . . . \n",
      "3|. W . . W W W . \n",
      "2|. W W W W . . W \n",
      "1|W W W . W W W W \n",
      "-+---------------\n",
      " |a b c d e f g h\n",
      "--NEXT PLAYER: W\n",
      "\n",
      "-->  b2-a3\n",
      "\n",
      "-----------------\n",
      "8|B B B B B B B B \n",
      "7|. B B B B B . B \n",
      "6|. . . . . . . . \n",
      "5|B . . . . . . . \n",
      "4|. . . . B . . . \n",
      "3|W W . . W W W . \n",
      "2|. . W W W . . W \n",
      "1|W W W . W W W W \n",
      "-+---------------\n",
      " |a b c d e f g h\n",
      "--NEXT PLAYER: B\n",
      "\n",
      "-->  a5-b4\n",
      "\n",
      "-----------------\n",
      "8|B B B B B B B B \n",
      "7|. B B B B B . B \n",
      "6|. . . . . . . . \n",
      "5|. . . . . . . . \n",
      "4|. B . . B . . . \n",
      "3|W W . . W W W . \n",
      "2|. . W W W . . W \n",
      "1|W W W . W W W W \n",
      "-+---------------\n",
      " |a b c d e f g h\n",
      "--NEXT PLAYER: W\n",
      "\n",
      "-->  b1-a2\n",
      "\n",
      "-----------------\n",
      "8|B B B B B B B B \n",
      "7|. B B B B B . B \n",
      "6|. . . . . . . . \n",
      "5|. . . . . . . . \n",
      "4|. B . . B . . . \n",
      "3|W W . . W W W . \n",
      "2|W . W W W . . W \n",
      "1|W . W . W W W W \n",
      "-+---------------\n",
      " |a b c d e f g h\n",
      "--NEXT PLAYER: B\n",
      "\n",
      "-->  b4-a3\n",
      "\n",
      "-----------------\n",
      "8|B B B B B B B B \n",
      "7|. B B B B B . B \n",
      "6|. . . . . . . . \n",
      "5|. . . . . . . . \n",
      "4|. . . . B . . . \n",
      "3|B W . . W W W . \n",
      "2|W . W W W . . W \n",
      "1|W . W . W W W W \n",
      "-+---------------\n",
      " |a b c d e f g h\n",
      "--NEXT PLAYER: W\n",
      "\n",
      "-->  b3-a4\n",
      "\n",
      "-----------------\n",
      "8|B B B B B B B B \n",
      "7|. B B B B B . B \n",
      "6|. . . . . . . . \n",
      "5|. . . . . . . . \n",
      "4|W . . . B . . . \n",
      "3|B . . . W W W . \n",
      "2|W . W W W . . W \n",
      "1|W . W . W W W W \n",
      "-+---------------\n",
      " |a b c d e f g h\n",
      "--NEXT PLAYER: B\n",
      "\n",
      "-->  b7-b6\n",
      "\n",
      "-----------------\n",
      "8|B B B B B B B B \n",
      "7|. . B B B B . B \n",
      "6|. B . . . . . . \n",
      "5|. . . . . . . . \n",
      "4|W . . . B . . . \n",
      "3|B . . . W W W . \n",
      "2|W . W W W . . W \n",
      "1|W . W . W W W W \n",
      "-+---------------\n",
      " |a b c d e f g h\n",
      "--NEXT PLAYER: W\n",
      "\n",
      "-->  e1-f2\n",
      "\n",
      "-----------------\n",
      "8|B B B B B B B B \n",
      "7|. . B B B B . B \n",
      "6|. B . . . . . . \n",
      "5|. . . . . . . . \n",
      "4|W . . . B . . . \n",
      "3|B . . . W W W . \n",
      "2|W . W W W W . W \n",
      "1|W . W . . W W W \n",
      "-+---------------\n",
      " |a b c d e f g h\n",
      "--NEXT PLAYER: B\n",
      "\n",
      "-->  b6-a5\n",
      "\n",
      "-----------------\n",
      "8|B B B B B B B B \n",
      "7|. . B B B B . B \n",
      "6|. . . . . . . . \n",
      "5|B . . . . . . . \n",
      "4|W . . . B . . . \n",
      "3|B . . . W W W . \n",
      "2|W . W W W W . W \n",
      "1|W . W . . W W W \n",
      "-+---------------\n",
      " |a b c d e f g h\n",
      "--NEXT PLAYER: W\n",
      "\n",
      "-->  f3-f4\n",
      "\n",
      "-----------------\n",
      "8|B B B B B B B B \n",
      "7|. . B B B B . B \n",
      "6|. . . . . . . . \n",
      "5|B . . . . . . . \n",
      "4|W . . . B W . . \n",
      "3|B . . . W . W . \n",
      "2|W . W W W W . W \n",
      "1|W . W . . W W W \n",
      "-+---------------\n",
      " |a b c d e f g h\n",
      "--NEXT PLAYER: B\n",
      "\n",
      "-->  a5-b4\n",
      "\n",
      "-----------------\n",
      "8|B B B B B B B B \n",
      "7|. . B B B B . B \n",
      "6|. . . . . . . . \n",
      "5|. . . . . . . . \n",
      "4|W B . . B W . . \n",
      "3|B . . . W . W . \n",
      "2|W . W W W W . W \n",
      "1|W . W . . W W W \n",
      "-+---------------\n",
      " |a b c d e f g h\n",
      "--NEXT PLAYER: W\n",
      "\n",
      "-->  f2-f3\n",
      "\n",
      "-----------------\n",
      "8|B B B B B B B B \n",
      "7|. . B B B B . B \n",
      "6|. . . . . . . . \n",
      "5|. . . . . . . . \n",
      "4|W B . . B W . . \n",
      "3|B . . . W W W . \n",
      "2|W . W W W . . W \n",
      "1|W . W . . W W W \n",
      "-+---------------\n",
      " |a b c d e f g h\n",
      "--NEXT PLAYER: B\n",
      "\n",
      "-->  e7-e6\n",
      "\n",
      "-----------------\n",
      "8|B B B B B B B B \n",
      "7|. . B B . B . B \n",
      "6|. . . . B . . . \n",
      "5|. . . . . . . . \n",
      "4|W B . . B W . . \n",
      "3|B . . . W W W . \n",
      "2|W . W W W . . W \n",
      "1|W . W . . W W W \n",
      "-+---------------\n",
      " |a b c d e f g h\n",
      "--NEXT PLAYER: W\n",
      "\n",
      "-->  d2-c3\n",
      "\n",
      "-----------------\n",
      "8|B B B B B B B B \n",
      "7|. . B B . B . B \n",
      "6|. . . . B . . . \n",
      "5|. . . . . . . . \n",
      "4|W B . . B W . . \n",
      "3|B . W . W W W . \n",
      "2|W . W . W . . W \n",
      "1|W . W . . W W W \n",
      "-+---------------\n",
      " |a b c d e f g h\n",
      "--NEXT PLAYER: B\n",
      "\n",
      "-->  b4-c3\n",
      "\n",
      "-----------------\n",
      "8|B B B B B B B B \n",
      "7|. . B B . B . B \n",
      "6|. . . . B . . . \n",
      "5|. . . . . . . . \n",
      "4|W . . . B W . . \n",
      "3|B . B . W W W . \n",
      "2|W . W . W . . W \n",
      "1|W . W . . W W W \n",
      "-+---------------\n",
      " |a b c d e f g h\n",
      "--NEXT PLAYER: W\n",
      "\n",
      "-->  f3-e4\n",
      "\n",
      "-----------------\n",
      "8|B B B B B B B B \n",
      "7|. . B B . B . B \n",
      "6|. . . . B . . . \n",
      "5|. . . . . . . . \n",
      "4|W . . . W W . . \n",
      "3|B . B . W . W . \n",
      "2|W . W . W . . W \n",
      "1|W . W . . W W W \n",
      "-+---------------\n",
      " |a b c d e f g h\n",
      "--NEXT PLAYER: B\n",
      "\n",
      "-->  d7-d6\n",
      "\n",
      "-----------------\n",
      "8|B B B B B B B B \n",
      "7|. . B . . B . B \n",
      "6|. . . B B . . . \n",
      "5|. . . . . . . . \n",
      "4|W . . . W W . . \n",
      "3|B . B . W . W . \n",
      "2|W . W . W . . W \n",
      "1|W . W . . W W W \n",
      "-+---------------\n",
      " |a b c d e f g h\n",
      "--NEXT PLAYER: W\n",
      "\n",
      "-->  a2-b3\n",
      "\n",
      "-----------------\n",
      "8|B B B B B B B B \n",
      "7|. . B . . B . B \n",
      "6|. . . B B . . . \n",
      "5|. . . . . . . . \n",
      "4|W . . . W W . . \n",
      "3|B W B . W . W . \n",
      "2|. . W . W . . W \n",
      "1|W . W . . W W W \n",
      "-+---------------\n",
      " |a b c d e f g h\n",
      "--NEXT PLAYER: B\n",
      "\n",
      "-->  a3-a2\n",
      "\n",
      "-----------------\n",
      "8|B B B B B B B B \n",
      "7|. . B . . B . B \n",
      "6|. . . B B . . . \n",
      "5|. . . . . . . . \n",
      "4|W . . . W W . . \n",
      "3|. W B . W . W . \n",
      "2|B . W . W . . W \n",
      "1|W . W . . W W W \n",
      "-+---------------\n",
      " |a b c d e f g h\n",
      "--NEXT PLAYER: W\n",
      "\n",
      "-->  e4-f5\n",
      "\n",
      "-----------------\n",
      "8|B B B B B B B B \n",
      "7|. . B . . B . B \n",
      "6|. . . B B . . . \n",
      "5|. . . . . W . . \n",
      "4|W . . . . W . . \n",
      "3|. W B . W . W . \n",
      "2|B . W . W . . W \n",
      "1|W . W . . W W W \n",
      "-+---------------\n",
      " |a b c d e f g h\n",
      "--NEXT PLAYER: B\n",
      "\n",
      "-->  a2-b1\n",
      "\n",
      "-----------------\n",
      "8|B B B B B B B B \n",
      "7|. . B . . B . B \n",
      "6|. . . B B . . . \n",
      "5|. . . . . W . . \n",
      "4|W . . . . W . . \n",
      "3|. W B . W . W . \n",
      "2|. . W . W . . W \n",
      "1|W B W . . W W W \n",
      "-+---------------\n",
      " |a b c d e f g h\n",
      "Ganham as Blacks\n"
     ]
    }
   ],
   "source": [
    "mostraJogo(tabuleiro, jogo1, True, True)"
   ]
  },
  {
   "cell_type": "markdown",
   "metadata": {},
   "source": [
    "## Exemplos de jogadores alfabeta\n",
    " Descreva e teste nesta secção as várias funções de avaliação desenvolvidas tanto para o ataque como para a defesa."
   ]
  },
  {
   "cell_type": "markdown",
   "metadata": {},
   "source": [
    "O primeiro jogador que desenvolvemos foi o `aleatorio`, que apenas atribui scores aleatórios a cada jogada:"
   ]
  },
  {
   "cell_type": "code",
   "execution_count": 6,
   "metadata": {},
   "outputs": [
    {
     "name": "stdout",
     "output_type": "stream",
     "text": [
      "Random vs Random\n",
      "Ganham as Whites\n",
      "Random vs Random\n",
      "Ganham as Whites\n"
     ]
    }
   ],
   "source": [
    "aleatorio = JogadorAlfaBeta(\"Random\", 1, jogo.aleatorio_15)\n",
    "\n",
    "ataque = joga11(tabuleiro, aleatorio, aleatorio)\n",
    "defesa = joga11(tabuleiro, aleatorio, aleatorio)\n",
    "\n",
    "mostraJogo(tabuleiro,ataque)\n",
    "mostraJogo(tabuleiro,defesa)"
   ]
  },
  {
   "cell_type": "markdown",
   "metadata": {},
   "source": [
    "A seguir, replicamos o `belarmino`, como indicado no enunciado:"
   ]
  },
  {
   "cell_type": "code",
   "execution_count": 7,
   "metadata": {},
   "outputs": [
    {
     "name": "stdout",
     "output_type": "stream",
     "text": [
      "Belarmino vs Random\n",
      "Ganham as Whites\n",
      "Random vs Belarmino\n",
      "Ganham as Blacks\n"
     ]
    }
   ],
   "source": [
    "belarmino = JogadorAlfaBeta(\"Belarmino\", 1, jogo.belarmino_15)\n",
    "\n",
    "ataque = joga11(tabuleiro, belarmino, aleatorio)\n",
    "defesa = joga11(tabuleiro, aleatorio, belarmino)\n",
    "\n",
    "mostraJogo(tabuleiro,ataque)\n",
    "mostraJogo(tabuleiro,defesa)"
   ]
  },
  {
   "cell_type": "markdown",
   "metadata": {},
   "source": [
    "De seguida desenvolvemos o `eder`, que segue uma estratégia semelhante ao `belarmino`, no entanto, também valoriza jogadas defensivas, para além das ofensivas:"
   ]
  },
  {
   "cell_type": "code",
   "execution_count": 8,
   "metadata": {},
   "outputs": [
    {
     "name": "stdout",
     "output_type": "stream",
     "text": [
      "Eder vs Belarmino\n",
      "Ganham as Whites\n",
      "Belarmino vs Eder\n",
      "Ganham as Blacks\n"
     ]
    }
   ],
   "source": [
    "eder = JogadorAlfaBeta(\"Eder\", 1, jogo.eder_15)\n",
    "\n",
    "ataque = joga11(tabuleiro, eder, belarmino)\n",
    "defesa = joga11(tabuleiro, belarmino, eder)\n",
    "\n",
    "mostraJogo(tabuleiro,ataque)\n",
    "mostraJogo(tabuleiro,defesa)"
   ]
  },
  {
   "cell_type": "markdown",
   "metadata": {},
   "source": [
    "O próximo jogador, o `ruiPatricio`, é uma versão modificada do `eder`, que procura sempre ganhar se isso for possível na jogada imediatamente a seguir:"
   ]
  },
  {
   "cell_type": "code",
   "execution_count": 9,
   "metadata": {},
   "outputs": [
    {
     "name": "stdout",
     "output_type": "stream",
     "text": [
      "Rui Patricio vs Eder\n",
      "Ganham as Blacks\n",
      "Eder vs Rui Patricio\n",
      "Ganham as Blacks\n"
     ]
    }
   ],
   "source": [
    "ruiPatricio = JogadorAlfaBeta(\"Rui Patricio\", 1, jogo.ruiPatricio_15)\n",
    "\n",
    "ataque = joga11(tabuleiro, ruiPatricio, eder)\n",
    "defesa = joga11(tabuleiro, eder, ruiPatricio)\n",
    "\n",
    "mostraJogo(tabuleiro,ataque)\n",
    "mostraJogo(tabuleiro,defesa)"
   ]
  },
  {
   "cell_type": "markdown",
   "metadata": {},
   "source": [
    "A seguir, desenvolvemos o `pepe`, que antes de realizar qualquer jogada tem em atenção as posições do adversário, verificando se as suas peças podem ser comidas na próxima jogada:"
   ]
  },
  {
   "cell_type": "code",
   "execution_count": 10,
   "metadata": {},
   "outputs": [
    {
     "name": "stdout",
     "output_type": "stream",
     "text": [
      "Pepe vs Rui Patricio\n",
      "Ganham as Whites\n",
      "Rui Patricio vs Pepe\n",
      "Ganham as Whites\n"
     ]
    }
   ],
   "source": [
    "pepe = JogadorAlfaBeta(\"Pepe\", 1, jogo.pepe_15)\n",
    "\n",
    "ataque = joga11(tabuleiro, pepe, ruiPatricio)\n",
    "defesa = joga11(tabuleiro, ruiPatricio, pepe)\n",
    "\n",
    "mostraJogo(tabuleiro,ataque)\n",
    "mostraJogo(tabuleiro,defesa)"
   ]
  },
  {
   "cell_type": "markdown",
   "metadata": {},
   "source": [
    "Por fim, o nosso último jogador é o `jogadorBT_15`, que utiliza a mesma estratégia que o `pepe`, com a funcionalidade acrescida de manter o máximo de linhas defensivas possível, impedindo que o adversário ultrapasse a sua peça mais atrasada:"
   ]
  },
  {
   "cell_type": "code",
   "execution_count": 11,
   "metadata": {},
   "outputs": [
    {
     "name": "stdout",
     "output_type": "stream",
     "text": [
      "jogadorBT_15 vs Pepe\n",
      "Ganham as Whites\n",
      "Pepe vs jogadorBT_15\n",
      "Ganham as Blacks\n"
     ]
    }
   ],
   "source": [
    "jogadorBT_15 = JogadorAlfaBeta(\"jogadorBT_15\", 1, jogo.func_aval_15)\n",
    "\n",
    "ataque = joga11(tabuleiro, jogadorBT_15, pepe)\n",
    "defesa = joga11(tabuleiro, pepe, jogadorBT_15)\n",
    "\n",
    "mostraJogo(tabuleiro,ataque)\n",
    "mostraJogo(tabuleiro,defesa)"
   ]
  },
  {
   "cell_type": "markdown",
   "metadata": {},
   "source": [
    "## Exemplos de jogos entre alguns desses jogadores e o Belarmino"
   ]
  },
  {
   "cell_type": "code",
   "execution_count": 12,
   "metadata": {},
   "outputs": [
    {
     "name": "stdout",
     "output_type": "stream",
     "text": [
      "Belarmino vs Random\n",
      "Ganham as Whites\n",
      "Belarmino vs Eder\n",
      "Ganham as Blacks\n",
      "Belarmino vs Rui Patricio\n",
      "Ganham as Blacks\n",
      "Belarmino vs Pepe\n",
      "Ganham as Blacks\n",
      "Belarmino vs jogadorBT_15\n",
      "Ganham as Blacks\n"
     ]
    }
   ],
   "source": [
    "jogo1 = joga11(tabuleiro,belarmino,aleatorio)\n",
    "mostraJogo(tabuleiro, jogo1)\n",
    "\n",
    "jogo2 = joga11(tabuleiro,belarmino,eder)\n",
    "mostraJogo(tabuleiro, jogo2)\n",
    "\n",
    "jogo3 = joga11(tabuleiro,belarmino,ruiPatricio)\n",
    "mostraJogo(tabuleiro, jogo3)\n",
    "\n",
    "jogo4 = joga11(tabuleiro,belarmino,pepe)\n",
    "mostraJogo(tabuleiro, jogo4)\n",
    "\n",
    "jogo5 = joga11(tabuleiro,belarmino,jogadorBT_15)\n",
    "mostraJogo(tabuleiro, jogo5)"
   ]
  },
  {
   "cell_type": "markdown",
   "metadata": {},
   "source": [
    "## Exemplos de jogos entre dois dos vários jogadores desenvolvidos"
   ]
  },
  {
   "cell_type": "code",
   "execution_count": 13,
   "metadata": {},
   "outputs": [
    {
     "name": "stdout",
     "output_type": "stream",
     "text": [
      "Pepe vs jogadorBT_15\n",
      "Ganham as Blacks\n",
      "jogadorBT_15 vs Pepe\n",
      "Ganham as Whites\n",
      "Pepe vs jogadorBT_15\n",
      "Ganham as Whites\n",
      "jogadorBT_15 vs Pepe\n",
      "Ganham as Whites\n"
     ]
    }
   ],
   "source": [
    "mostraJogo(tabuleiro,joga11(tabuleiro,pepe,jogadorBT_15))\n",
    "mostraJogo(tabuleiro,joga11(tabuleiro,jogadorBT_15,pepe))\n",
    "mostraJogo(tabuleiro,joga11(tabuleiro,pepe,jogadorBT_15))\n",
    "mostraJogo(tabuleiro,joga11(tabuleiro,jogadorBT_15,pepe))"
   ]
  },
  {
   "cell_type": "markdown",
   "metadata": {},
   "source": [
    "## Processo de selecção dos jogadores para o torneio\n",
    "Descreva o processo de selecção dos jogadores campeões, para entrar no campeonato \"todos contra todos\".\n",
    "\n"
   ]
  },
  {
   "cell_type": "markdown",
   "metadata": {},
   "source": [
    "O nosso processo de desenvolvimento de novos jogadores foi sempre baseado em evolução do jogador anterior, pelo que, naturalmente, a cada iteração de desenvolvimento obtivémos um jogador melhor e mais complexo. Ainda assim, sempre que terminámos um novo jogador, testámo-lo contra todos os anteriores, como pretas e brancas, obtendo os seguintes dados:"
   ]
  },
  {
   "cell_type": "markdown",
   "metadata": {},
   "source": [
    "\n",
    "Branca \\ Preta| aleatorio  | belarmino  | eder  | ruiPatricio  | pepe  | jogadorBT_15\n",
    ":------------:|:----------:|:----------:|:-----:|:------------:|:-----:|:------------:\n",
    "aleatorio     | -----      | 0 - 5      | 0 - 5 | 0 - 5        | 0 - 5 | 0 - 5\n",
    "belarmino     | 5 - 0      | -----      | 1 - 4 | 1 - 4        | 0 - 5 | 0 - 5\n",
    "eder          | 5 - 0      | 5 - 0      | ----- | 2 - 3        | 1 - 4 | 0 - 5\n",
    "ruiPatricio   | 5 - 0      | 4 - 1      | 3 - 2 | -----        | 1 - 4 | 0 - 5\n",
    "pepe          | 5 - 0      | 5 - 0      | 5 - 0 | 5 - 0        | ----- | 0 - 5\n",
    "jogadorBT_15  | 5 - 0      | 5 - 0      | 5 - 0 | 5 - 0        | 4 - 1 | -----"
   ]
  },
  {
   "cell_type": "markdown",
   "metadata": {},
   "source": [
    "Por fim, realizamos 10 torneios entre todos os jogadores, onde recolhemos a seguinte informação:"
   ]
  },
  {
   "cell_type": "code",
   "execution_count": null,
   "metadata": {},
   "outputs": [],
   "source": [
    "faz_campeonato(tabuleiro,[aleatorio,belarmino,eder,ruiPatricio,pepe,jogadorBT_15])"
   ]
  },
  {
   "cell_type": "markdown",
   "metadata": {},
   "source": [
    "Jogador     | Vitórias\n",
    ":----------:|:-------:\n",
    "aleatorio   | 2\n",
    "belarmino   | 18\n",
    "eder        | 59\n",
    "ruiPatricio | 58\n",
    "pepe        | 72\n",
    "jogadorBT_15| 91"
   ]
  },
  {
   "cell_type": "markdown",
   "metadata": {},
   "source": [
    "Com base nos dados recolhidos, o `jogadorBT_15` tem uma probabilidade de 91% de vencer contra qualquer outro jogador criado pelo nosso grupo sendo, por isso, o nosso jogador escolhido para o torneio.\n",
    "\n",
    "                   {}\n",
    "                  /__\\\n",
    "                /| #1 |\\\n",
    "               (_|    |_)\n",
    "                  \\  /\n",
    "                   )(\n",
    "                _|____|_\n",
    "              _|________|_\n",
    "             |jogadorBT_15|"
   ]
  }
 ],
 "metadata": {
  "colab": {
   "collapsed_sections": [],
   "name": "Untitled0.ipynb",
   "provenance": [],
   "version": "0.3.2"
  },
  "kernelspec": {
   "display_name": "Python 3.10.7 64-bit",
   "language": "python",
   "name": "python3"
  },
  "language_info": {
   "codemirror_mode": {
    "name": "ipython",
    "version": 3
   },
   "file_extension": ".py",
   "mimetype": "text/x-python",
   "name": "python",
   "nbconvert_exporter": "python",
   "pygments_lexer": "ipython3",
   "version": "3.10.7"
  },
  "vscode": {
   "interpreter": {
    "hash": "1e18c1a55377fd1423d44964f2b377bbbd3dd4702a92964ed2006009ff3bee9f"
   }
  }
 },
 "nbformat": 4,
 "nbformat_minor": 2
}
