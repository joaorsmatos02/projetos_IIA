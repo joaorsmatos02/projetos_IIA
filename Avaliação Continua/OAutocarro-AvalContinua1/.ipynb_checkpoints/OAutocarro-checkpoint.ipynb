{
 "cells": [
  {
   "cell_type": "markdown",
   "metadata": {},
   "source": [
    "# O Problema do Autocarro\n",
    "\n",
    "<img src=\"Figuras\\BusAscii.PNG\" alt=\"Drawing\" style=\"width: 500px;\"/>\n",
    "\n"
   ]
  },
  {
   "cell_type": "markdown",
   "metadata": {},
   "source": [
    "## Introdução\n",
    "Considere o problema de um Autocarro que recolhe passageiros por reserva prévia. Parte vazio de um ponto inicial, podemos chamar-lhe a estação de autocarros, e tem de apanhar pessoas, localizadas em diferentes lugares, transportando-as para os respectivos destinos. Finalmente regressa ao lugar de partida, vazio, mas com objectivo de gastar o menor tempo possível no percurso total.\n",
    "\n",
    "É preciso ter em conta que o autocarro tem uma capacidade limitada e que há diferentes tipos de ruas no que diz respeito ao congestionamento e quanto aos sentidos com que podem ou não serem atravessadas.\n",
    "\n",
    "Podemos ter três tipos de congestionamento: leve, médio, ou intenso, determinando os tempos médios que demoram as ruas respectivas a serem percorridas pelo autocarro. Para além do tempo que demora a percorrer as ruas, o autocarro também demora tempo a recolher e libertar passageiros. Vamos considerar que cada pessoa demora um tempo médio fixo tanto para entrar como para sair do autocarro e assim, o tempo de paragem num dado ponto é função do total do número de pessoas que entram e saiem.\n",
    "\n",
    "As ruas podem ser pedonais (intransitáveis) ou podem ser percorridas em ambos os sentidos ou de sentido único.\n",
    "\n",
    "Bom, imaginem que o planeador está a usar a informação mais recente sobre a intensidade e os sentidos transitáveis das ruas bem como em relação à duração média das ruas para cada tipo de tráfego e os tempos médios de entrada e saída dos passageiros."
   ]
  },
  {
   "cell_type": "markdown",
   "metadata": {},
   "source": [
    "## Objectivos\n",
    "<img src=\"Figuras\\BusterKeatonTram.gif\" alt=\"Drawing\" style=\"width: 300px;\"/>\n",
    "\n",
    "Nesta avaliação contínua não estamos interessados na resolução do problema do Autocarro mas apenas na sua modelização e implementação em python, utilizando a *framework* do *aima-python*. \n",
    "O objectivo desta avaliação é que completem a implementação da formulação deste problema como um grafo de estados, em que já estão modelizados os estados e a informação estática sobre o mundo do autocarro que são necessários para o resolver. Fornecemos as classes que representam os estados e o conhecimento estático necessário para o problema. \n",
    "\n",
    "                           🚍🚍🚍🚍🚍\n",
    "\n",
    "Fornecemos também o esqueleto da classe `OBus`, subclasse da classe `Problem`, em que nem os métodos obrigatórios nem os opcionais estão implementados. Assim, terão de completar a modelização tratando de implementar o construtor e os métodos obrigatórios: `actions` e `result`. As implementações dos métodos `goal_test` e `path_cost` são opcionais, os quais podem ser herdados da classe `Problem`, deixando ao vosso critério a necessidade da sua implementação."
   ]
  },
  {
   "cell_type": "markdown",
   "metadata": {},
   "source": [
    "## O Mundo e a sua Representação\n",
    "<img src=\"Figuras\\mapaNewYork.PNG\" alt=\"Drawing\" style=\"width: 150px;\"/>\n",
    "\n",
    "Vamos ter uma grelha quadrada com uma certa dimensão, que representa as ruas e os pontos de intersecção, podendo o autocarro parar apenas nesses pontos. Consideramos, para simplificar, que **as ruas são segmentos da grelha de uma unidade apenas**. \n",
    "\n",
    "Os `namedtuples` são tuplos Python onde podemos aceder aos diversos elementos pelo nome e não apenas pela posição.\n",
    "Assim, vamos ter um `namedtuple` que vai guardar a informação estática, i.e. que não muda ao longo do tempo, contendo \n",
    "* a dimensão da cidade, que é quadrangular; \n",
    "* a localização da estação;\n",
    "* a capacidade do autocarro;\n",
    "* o conjunto das ruas pedonais;\n",
    "* o conjunto das ruas de um só sentido;\n",
    "* o conjunto das ruas de tráfego ligeiro;\n",
    "* o conjunto das ruas de tráfego intenso;\n",
    "* informação sobre os tempos médios de cada classe de rua em termos de tráfego;\n",
    "* tempo médio que demora um passageiro a entrar ou sair do autocarro.\n",
    "* As pessoas a ir buscar e transportar.\n",
    "\n",
    "Consideramos que a maior parte das ruas serão de 2 sentidos e de intensidade de tráfego média e assim, omitimos essa informação na estrutura de dados de cima. Nas ruas que não forem nem pedonais nem de um só sentido o autocarro poderá circular em ambos os sentidos.\n",
    "\n",
    "<img src=\"Figuras\\rRussianBusStops.PNG\" alt=\"Drawing\" style=\"width: 750px;\"/>\n",
    "\n",
    "**Pontos:** Os pontos da grelha, onde se apanham e largam passageiros, são representados pelas suas coordenadas cartesianas: (x,y)\n",
    "\n",
    "<img src=\"Figuras\\ascii-street.PNG\" alt=\"Drawing\" style=\"width: 400px;\"/>\n",
    "\n",
    "**Ruas:** As ruas são identificadas por pares de pontos: **(pos1,pos2)** em que pos1 e pos2 são pontos da grelha. Nos conjuntos das ruas pedonais, de tráfego ligeiro e intenso, a ordem dos 2 pontos do tuplo que representa a rua é sempre de sul para norte (rua vertical) ou de oeste para leste (rua horizontal). No conjunto de ruas de um só sentido, abandonamos a uniformização referida atrás: a ordem dos pontos no tuplo reflecte o sentido.\n",
    "\n",
    "Assim, por exemplo, a rua pedonal entre os pontos (3,4) e (4,4) é representada por ((3,4),(4,4)), e a rua pedonal entre os pontos (5,6) e (4,6) é dada por ((4,6),(5,6)). A rua de um só sentido, que vai de leste para oeste entre os pontos (0,1) e (1,1) é representada por ((1,1),(0,1)). Supondo que essa rua de 1 só sentido é de tráfego ligeiro, ela é representada por ((0,1),(1,1)) na lista das ruas de tráfego ligeiro, porque é o sentido standard de oeste para leste.\n",
    "\n",
    "**Custos do Congestionamento:** Vamos ter um dicionário para representar a informação sobre o tempo médio que demora o autocarro a percorrer cada tipo de rua. As chaves podem ser: \"ligeiro\", \"médio\" e \"intenso\" e os valores médios são dados em segundos.\n",
    "\n",
    "**Tempo para saír e entrar no autocarro:** O tempo médio que cada pessoa leva a entrar ou a sair do autocarro é dado em segundos e é igual para todos os pontos da grelha.\n",
    "\n",
    "**Clientes:** Os clientes vão ser representados por um dicionário em que as chaves são os identificadores e os valores são tuplos **(localização,destino)**, em que **localização** e **destino** são pontos da grelha. É Conveniente que os clientes possuam um nome, um número ou o que quisermos, para podermos identificá-los, principalmente para podermos distinguir os que no autocarro viajem para o mesmo destino ou os que fora do autocarro possuam a mesma localização e destino. E também para identificar quem sai e entra ao longo do percurso\n",
    "\n",
    "<img src=\"Figuras\\WaitingBus.jpg\" alt=\"Drawing\" style=\"width: 300px;\"/>"
   ]
  },
  {
   "cell_type": "markdown",
   "metadata": {},
   "source": [
    "Criemos então a classe `MundoBus` que é um `namedtuple` com os 10 campos que precisamos."
   ]
  },
  {
   "cell_type": "code",
   "execution_count": 13,
   "metadata": {},
   "outputs": [],
   "source": [
    "from collections import namedtuple\n",
    "MundoBus = namedtuple('MundoBus',['dim','estacao','capacidade','pedonais','sentidoUnico','intenso','ligeiro','tempos','tempoPassageiro','clientes'])"
   ]
  },
  {
   "cell_type": "markdown",
   "metadata": {},
   "source": [
    "### Exemplo de um mundo\n",
    "\n",
    "vamos imaginar um mundo com\n",
    "* 20x20 pontos (0,0) a (19,19),\n",
    "* A estação no canto esquerdo de baixo, de coordenadas (0,0).\n",
    "* O autocarro limitado a 3 passageiros.\n",
    "* Uma rua pedonal ((4,4),(4,5)).\n",
    "* Duas ruas de 1 só sentido ((5,5),(5,4)) e ((13,5),(14,5))\n",
    "* Uma rua ((1,18),(1,19)) de tráfego intenso.\n",
    "* Uma rua ((5,4),(6,4)) de tráfego ligeiro.\n",
    "* Uma rua de tráfego ligeiro é percorrida em 100s; uma rua de tráfego médio é percorrida em 300s; uma rua de tráfego intenso é percorrida em 1000s\n",
    "* Cada passageiro demora 10s a entrar ou sair do autocarro\n",
    "* Os clientes a recolher {'MrX':((4,2),(2,2)),'MissZ':((1,2),(4,4)),'Slim':((3,3),(3,5))}\n",
    "\n",
    "e vamos criar esta instância de `MundoBus`:"
   ]
  },
  {
   "cell_type": "code",
   "execution_count": 14,
   "metadata": {},
   "outputs": [
    {
     "name": "stdout",
     "output_type": "stream",
     "text": [
      "MundoBus(dim=20, estacao=(0, 0), capacidade=3, pedonais={((4, 4), (4, 5))}, sentidoUnico={((13, 5), (14, 5)), ((5, 5), (5, 4))}, intenso={((1, 20), (1, 1))}, ligeiro={((5, 4), (5, 5))}, tempos={'ligeiro': 100, 'médio': 300, 'intenso': 1000}, tempoPassageiro=10, clientes={'MrX': ((4, 2), (2, 2)), 'MissZ': ((1, 2), (4, 4)), 'Slim': ((3, 3), (3, 5))})\n"
     ]
    }
   ],
   "source": [
    "dim=20\n",
    "estacao=(0,0)\n",
    "capacidade=3\n",
    "pedonais={((4,4),(4,5))}\n",
    "sentidoUnico={((5,5),(5,4)),((13,5),(14,5))}\n",
    "intenso={((1,20),(1,1))}\n",
    "ligeiro={((5,4),(5,5))}\n",
    "tempos={'ligeiro': 100, 'médio': 300, 'intenso': 1000}\n",
    "tempoPassageiro=10\n",
    "clientes={'MrX':((4,2),(2,2)),'MissZ':((1,2),(4,4)),'Slim':((3,3),(3,5))}\n",
    "mundo20=MundoBus(dim,estacao,capacidade,pedonais,sentidoUnico,intenso,ligeiro,tempos,tempoPassageiro,clientes)\n",
    "print(mundo20)"
   ]
  },
  {
   "cell_type": "markdown",
   "metadata": {},
   "source": [
    "Vamos *imprimir* o mundo de um modo mais agradável, usando a função `prettyMundo()`. Poderíamos ter criado uma subclasse de `Mundo` e redefinido a função `str`, mas optámos pela definição da função."
   ]
  },
  {
   "cell_type": "code",
   "execution_count": 15,
   "metadata": {
    "scrolled": true
   },
   "outputs": [
    {
     "name": "stdout",
     "output_type": "stream",
     "text": [
      "--------------------------------------------------\n",
      "Dimensão do mundo: 20\n",
      "Estação: (0, 0)\n",
      "Capacidade do autocarro: 3\n",
      "As ruas pedonais:\n",
      "      ((4, 4), (4, 5))\n",
      "As ruas de um só sentido:\n",
      "      ((13, 5), (14, 5))\n",
      "      ((5, 5), (5, 4))\n",
      "As ruas com tráfego ligeiro:\n",
      "      ((5, 4), (5, 5))\n",
      "As ruas com tráfego intenso:\n",
      "      ((1, 20), (1, 1))\n",
      "Tempo médio a atravessar as ruas de:\n",
      "      ligeiro : 100s\n",
      "      médio : 300s\n",
      "      intenso : 1000s\n",
      "Tempo médio para um passageiro sair ou entrar no Bus: 10s\n",
      "Clientes:\n",
      "      MrX - ((4, 2), (2, 2))\n",
      "      MissZ - ((1, 2), (4, 4))\n",
      "      Slim - ((3, 3), (3, 5))\n",
      "------------------------------------------------------------\n"
     ]
    }
   ],
   "source": [
    "# impressão mais pretty\n",
    "\n",
    "def pretty_mundo(mundo):\n",
    "    print('-'*50)\n",
    "    print('Dimensão do mundo:',mundo.dim)\n",
    "    print('Estação:',mundo.estacao)\n",
    "    print('Capacidade do autocarro:',mundo.capacidade)\n",
    "    print('As ruas pedonais:')\n",
    "    for p in mundo.pedonais:\n",
    "        print(' '*5,p)\n",
    "    print('As ruas de um só sentido:')\n",
    "    for p in mundo.sentidoUnico:\n",
    "        print(' '*5,p)\n",
    "    print('As ruas com tráfego ligeiro:')\n",
    "    for p in mundo.ligeiro:\n",
    "        print(' '*5,p)\n",
    "    print('As ruas com tráfego intenso:')\n",
    "    for p in mundo.intenso:\n",
    "        print(' '*5,p)\n",
    "    print('Tempo médio a atravessar as ruas de:')\n",
    "    for p in mundo.tempos:\n",
    "        print(' '*5,p,':',str(mundo.tempos[p])+'s')\n",
    "    print('Tempo médio para um passageiro sair ou entrar no Bus:',str(mundo.tempoPassageiro)+'s')\n",
    "    print('Clientes:')\n",
    "    for p in mundo.clientes:\n",
    "        print(' '*5,p,\"-\",mundo.clientes[p])\n",
    "    print('-'*60)\n",
    "    \n",
    "pretty_mundo(mundo20)"
   ]
  },
  {
   "cell_type": "markdown",
   "metadata": {},
   "source": [
    "## Os Estados\n",
    "<img src=\"Figuras\\Ojuelegba.PNG\" alt=\"Drawing\" style=\"width: 350px;\"/>\n",
    "\n",
    "No estado, queremos representar a informação mínima que se altera com as acções. O autocarro move-se ao longo da grelha e as pessoas vão entrar e sair do autocarro. Assim, precisamos só de saber onde está o autocarro, quem está dentro do autocarro e quem está ainda lá fora à espera de ser recolhido e levado ao seu destino. Na informação estática sobre o mundo está a informação sobre as reservas: onde entra e sai cada pessoa, não sendo necessário replicá-la nos estados. Basta-nos os identificadores dos passageiros e dos que estão à espera.\n",
    "\n",
    "Escolhemos um `namedtuple`, a que chamámos de `TheBus`, que indica:\n",
    "* a posição do autocarro,\n",
    "* um conjunto com as pessoas (**Ids**) a recolher,\n",
    "* um conjunto com os passageiros (**Ids**) no autocarro.\n",
    "\n",
    "Para os nossos testes, poderá ser útil utilizar algoritmos de procura em grafo, os quais precisam de estados *hashables* porque guardam num conjunto os estados já expandidos. Os algoritmos em árvore são pouco eficientes neste problema porque facilmente poderão existir múltiplas formas de atingir o mesmo estado.\n",
    "\n",
    "Não podemos ter conjuntos, que não são *hashables* na estrutura de dados, se quisermos usar a função `hash`. Assim, iremos criar uma subclasse de `TheBus` de modo a redefinir a função `hash`, aproveitando já agora para redefinir a função `str` que nos determina o output de `print`. \n",
    "\n",
    "Notem que não precisamos de redefinir o método `eq` porque a classe herdará o método fornecido por `namedtuple`. Este método é fundamental para verificarmos se dois estados são iguais mas de instâncias diferentes ou se um dado estado pertence a uma lista ou conjunto de estados, todos eles diferentes instâncias."
   ]
  },
  {
   "cell_type": "markdown",
   "metadata": {},
   "source": [
    "## Implementação do Estado: `EstadoBus`\n",
    "\n",
    "```python\n",
    "    .---------------------------.\n",
    "   /,--..---..---..---..---..--. `.\n",
    "  //___||___||___||___||___||___\\_|\n",
    "  [j__ ######################## [_|\n",
    "     \\============================|\n",
    "  .==|  |\"\"\"||\"\"\"||\"\"\"||\"\"\"| |\"\"\"||\n",
    " /======\"---\"\"---\"\"---\"\"---\"=|  =||\n",
    " |____    []*          ____  | ==||\n",
    " //  \\\\               //  \\\\ |===||  hjw\n",
    " \"\\__/\"---------------\"\\__/\"-+---+'\n",
    "\n",
    "```"
   ]
  },
  {
   "cell_type": "code",
   "execution_count": 16,
   "metadata": {},
   "outputs": [],
   "source": [
    "TheBus = namedtuple('Bus',['pos', 'pickup','destinos'])\n",
    "\n",
    "class EstadoBus(TheBus):\n",
    "    def __hash__(self):\n",
    "        new=()\n",
    "        for x in self:\n",
    "            new=new+(str(x),)\n",
    "        return hash(new)\n",
    "    \n",
    "    def strCoderunner(self):\n",
    "        return 'EstadoBus('+ str(self[0]) +','+ \\\n",
    "                             str(sorted(self[1]))+','+ \\\n",
    "                             str(sorted(self[2]))+')'\n",
    "    \n",
    "    def prettyPrint(self):\n",
    "        tabs=5\n",
    "        out=\"Bus:\\n\"\n",
    "        out+=\" \"*tabs+\"Local:\"+str(self.pos)+'\\n'\n",
    "        out+=' '*tabs+\"Largar: \"+str(self.destinos)+\"\\n\"\n",
    "        out+=' '*tabs+\"Apanhar: \"+str(self.pickup)+'\\n' \n",
    "        print(out)"
   ]
  },
  {
   "cell_type": "markdown",
   "metadata": {},
   "source": [
    "Vamos experimentar...\n",
    "\n",
    "Criemos um estado com a informação seguinte:\n",
    "* Localização do autocarro: (0,0)\n",
    "* Largar o passageiro 1 e o passageiro 4 \n",
    "* Apanhar o passageiro 5.\n",
    "\n",
    "A seguir iremos *imprimir* o estado tanto no modo coderunner como no modo *pretty* e confirmar que é *hashable*"
   ]
  },
  {
   "cell_type": "code",
   "execution_count": 17,
   "metadata": {},
   "outputs": [
    {
     "name": "stdout",
     "output_type": "stream",
     "text": [
      "Modo CodeRunner: EstadoBus((1, 1),['Sinco'],['Ois', 'Quato', 'Un'])\n",
      "\n",
      "Modo Pretty:\n",
      "Bus:\n",
      "     Local:(1, 1)\n",
      "     Largar: {'Quato', 'Ois', 'Un'}\n",
      "     Apanhar: {'Sinco'}\n",
      "\n",
      "And the hash number is:  6938125063003431871\n"
     ]
    }
   ],
   "source": [
    "estado=EstadoBus((1,1),{\"Sinco\"},{\"Un\",\"Ois\",\"Quato\"})\n",
    "\n",
    "print('Modo CodeRunner: ',end='')\n",
    "print(estado.strCoderunner())\n",
    "print()\n",
    "print('Modo Pretty:')\n",
    "estado.prettyPrint()\n",
    "\n",
    "print('And the hash number is: ',hash(estado))"
   ]
  },
  {
   "cell_type": "markdown",
   "metadata": {},
   "source": [
    "Comparemos dois estados iguais mas que são instâncias distintas de `EstadoBus`."
   ]
  },
  {
   "cell_type": "code",
   "execution_count": 18,
   "metadata": {},
   "outputs": [
    {
     "data": {
      "text/plain": [
       "True"
      ]
     },
     "execution_count": 18,
     "metadata": {},
     "output_type": "execute_result"
    }
   ],
   "source": [
    "EstadoBus((1,1),{\"Sinco\"},{\"Un\",\"Quato\"})==EstadoBus((1,1),{\"Sinco\"},{\"Un\",\"Quato\"})"
   ]
  },
  {
   "cell_type": "markdown",
   "metadata": {},
   "source": [
    "Ou verifiquemos se um determinado estado está numa lista:"
   ]
  },
  {
   "cell_type": "code",
   "execution_count": 19,
   "metadata": {},
   "outputs": [
    {
     "data": {
      "text/plain": [
       "True"
      ]
     },
     "execution_count": 19,
     "metadata": {},
     "output_type": "execute_result"
    }
   ],
   "source": [
    "EstadoBus((1,1),{\"Sinco\"},{\"Un\",\"Quato\"}) in {EstadoBus((1,1),{\"Zinco\"},{\"Dun\",\"Puato\"}),EstadoBus((1,1),{\"Sinco\"},{\"Un\",\"Quato\"})}"
   ]
  },
  {
   "cell_type": "markdown",
   "metadata": {},
   "source": [
    "Nos testes de correcção automática do programa poderemos querer imprimir uma lista de estados, e é preciso comparar a vossa solução com a solução correcta. Para isso devemos criar uma função que imprime uma lista de estados e que fará uso da conversão do estado em string. Esta função irá fazer uso do método `strCoderunner`."
   ]
  },
  {
   "cell_type": "code",
   "execution_count": 20,
   "metadata": {},
   "outputs": [],
   "source": [
    "def printListaEstados(L):\n",
    "    print('[',end='')\n",
    "    for e in L:\n",
    "        print(e.strCoderunner(),'',end='')\n",
    "    print(']')"
   ]
  },
  {
   "cell_type": "code",
   "execution_count": 21,
   "metadata": {},
   "outputs": [
    {
     "name": "stdout",
     "output_type": "stream",
     "text": [
      "[EstadoBus((1, 1),['Sinco'],['Cinco', 'Pois', 'Quato', 'Un']) EstadoBus((1, 1),['Sinco'],['Quato', 'Un']) ]\n"
     ]
    }
   ],
   "source": [
    "printListaEstados([EstadoBus((1,1),{\"Sinco\"},{\"Cinco\",\"Quato\",\"Pois\",\"Un\"}),EstadoBus((1,1),{\"Sinco\"},{\"Un\",\"Quato\"})])"
   ]
  },
  {
   "cell_type": "code",
   "execution_count": 22,
   "metadata": {
    "scrolled": true
   },
   "outputs": [
    {
     "name": "stdout",
     "output_type": "stream",
     "text": [
      "[EstadoBus(pos=(1, 1), pickup={'Sinco'}, destinos={'Quato', 'Pois', 'Cinco', 'Un'}), EstadoBus(pos=(1, 1), pickup={'Sinco'}, destinos={'Quato', 'Un'})]\n"
     ]
    }
   ],
   "source": [
    "print([EstadoBus((1,1),{\"Sinco\"},{\"Cinco\",\"Quato\",\"Pois\",\"Un\"}),EstadoBus((1,1),{\"Sinco\"},{\"Un\",\"Quato\"})])"
   ]
  },
  {
   "cell_type": "markdown",
   "metadata": {},
   "source": [
    "## Formulação...: a classe incompleta `OBus`\n",
    "<img src=\"Figuras\\BusPuzzleToComplete.PNG\" alt=\"Drawing\" style=\"width: 450px;\"/>\n",
    "\n",
    "A seguir apresentamos a classe `OBus`, com o construtor ainda por completar em que existe o parâmetro adicional `mundo`, o qual recebe uma instância de `MundoBus` para além do estado inicial e o `goal`, estes com None por omissão. Note que a assinatura do método deve manter-se assim. Os métodos opcionais `actions` e `result` são obrigatórios e terão de ser implementados. Se acharem necessário adicionem os métodos opcionais `goal_test` e `path_cost`."
   ]
  },
  {
   "cell_type": "code",
   "execution_count": 23,
   "metadata": {},
   "outputs": [],
   "source": [
    "from searchPlus import *\n",
    "\n",
    "# Mundo por defeito\n",
    "estacao=(0,0)\n",
    "pedonais={((4,4),(4,5))}\n",
    "sentidoUnico={((5,5),(5,4)),((3,5),(4,5))}\n",
    "intenso={((1,20),(1,1))}\n",
    "ligeiro={((2,10),(2,10))}\n",
    "tempos={'ligeiro': 100, 'médio': 300, 'intenso': 1000}\n",
    "tempoPassageiro=10\n",
    "clientes={1:((1,2),(3,3)),2:((1,2),(2,3))}\n",
    "\n",
    "mundoDef=MundoBus(5,estacao,2,pedonais,sentidoUnico,intenso,ligeiro,tempos,tempoPassageiro,clientes)\n",
    "\n",
    "class OBus(Problem):\n",
    "    \n",
    "    \n",
    "    def __init__(self, initial=None,goal=None, mundo=mundoDef):\n",
    "        \"\"\" O construtor...\n",
    "        \"\"\"\n",
    "        pass\n",
    "    \n",
    "    def actions(self, state):\n",
    "        \"\"\" As acções aplicáveis\n",
    "        \"\"\"\n",
    "        pass\n",
    "\n",
    "    def result(self, estado, accao):\n",
    "        \"\"\"Resultado de aplicar uma acção a um estado\n",
    "        \"\"\"\n",
    "        pass\n"
   ]
  },
  {
   "cell_type": "markdown",
   "metadata": {},
   "source": [
    "### Pressuposto que o mundo está correcto\n",
    "Notem que o objectivo deste projecto não é verificar se o mundo que é passado no construtor está ou não correcto. Nada disso, pelo contrário, assume-se que está correcto.\n",
    "Um mundo incorrecto seria, por exemplo, aquele em que:\n",
    "* o autocarro tivesse uma capacidade negativa;\n",
    "* a estação não fizesse parte da grelha;\n",
    "* as ruas pedonais, de um só sentido, ou as de tráfego ligeiro ou intenso, não fizessem parte da grelha;\n",
    "* houvesse ruas pedonais e de um só sentido simultaneamente ou que fossem classificadas em mais do que um tipo de congestionamento;\n",
    "* as pessoas tivessem localizações ou destinos inacessíveis a partir da estação.\n",
    "\n",
    "Seria útil verificar se os mundos são válidos mas não é objectivo do projecto e por isso **assumam que o mundo associado a um problema `OBus` está correcto**."
   ]
  },
  {
   "cell_type": "markdown",
   "metadata": {},
   "source": [
    "## As acções\n",
    "\n",
    "|<img src=\"Figuras\\BusBridge.gif\" alt=\"Drawing\" style=\"width: 350px;\"/>|<img src=\"Figuras\\CreatingTheBustStop.JPG\" alt=\"Drawing\" style=\"width: 350px;\"/>|\n",
    "|-|-|\n",
    "\n",
    "Vamos considerar que há dois tipos de acções.\n",
    "\n",
    "**Acções de movimento:** As acções de movimento que são **\"n\", \"s\", \"o\" \"e\"**, que representam o movimento do autocarro uma unidade para norte, sul, oeste e este, respectivamente, percorrendo uma rua, sem largar nem apanhar passageiros. Tenham em conta que o movimento está confinado pelas fronteiras da grelha, sendo impedido nas ruas pedonais e naquelas em que o sentido é único e não corresponde ao indicado pela acção.\n",
    "\n",
    "**Acções de saída e entrada de passageiros:** Temos também as acções definidas pelo tuplo **(larga,apanha)** em que **larga** é o conjunto de passageiros a largar e **apanha** é o conjunto de pessoas a apanhar, sendo todo eles representados pelos respectivos identificadores.\n",
    "\n",
    "Por exemplo:\n",
    "\n",
    "a acção de largar os passageiros \"Ez\" e \"Ois\" e apanhar o passageiro \"Inze\" é representada da maneira seguinte:\n",
    "* ({\"Ez\",\"Ois\"},{\"Inze\"})"
   ]
  },
  {
   "cell_type": "markdown",
   "metadata": {},
   "source": [
    "## A ordem do output da função `actions`\n",
    "O output da função `actions` tem de devolver as acções por uma certa ordem para que possamos standardizar a correcção automática. As acções de saída e entrada de passageiros (ordenadas em termos de conjuntos de strings) devem sempre preceder as acções de movimento do autocarro (ordenadas alfabeticamente). \n",
    "\n",
    "Por exemplo, se tivessemos as seguintes acções aplicáveis a um estado:\n",
    "```python\n",
    "[({'D'}, {'A','C'}),\n",
    " ({'D'}, {'E','A'}),\n",
    " ({'D'}, {'B','E'}),\n",
    " ({'D'}, {'C','E'}),\n",
    " ({'D'}, {'A','B'}),\n",
    " ({'D'}, {'B','C'}),\n",
    " 'n',\n",
    " 'e',\n",
    " 'o',\n",
    " 's']\n",
    "```\n",
    "O output correcto de `actions` seria:\n",
    "```python\n",
    "[({'D'}, {'A','B'}),\n",
    " ({'D'}, {'A','C'}),\n",
    " ({'D'}, {'E','A'}),\n",
    " ({'D'}, {'B','C'}),\n",
    " ({'D'}, {'B','E'}),\n",
    " ({'D'}, {'C','E'}),\n",
    " 'e',\n",
    " 'n',\n",
    " 'o',\n",
    " 's']\n",
    "```\n",
    "Notem que um conjunto em Python não tem nem ordem nem repetições e por isso o {'E','A'} é o mesmo que {'A','E'}."
   ]
  },
  {
   "cell_type": "markdown",
   "metadata": {},
   "source": [
    "# Submissão\n",
    "Cada aluno deve completar a implementação da classe pedida e testá-la o melhor possível, e deve responder ao *quizz* **OAutocarro** que está na página da disciplina, introduzindo aí o seu código.\n",
    "\n",
    "Esse *quizz* é constituído por uma única pergunta. A implementação da classe `OBus` é avaliada através de um conjunto de testes automáticos visíveis e mais alguns testes escondidos.\n",
    "\n",
    "Podem ir verificando o código, sendo a última submissão a que será considerada."
   ]
  },
  {
   "cell_type": "markdown",
   "metadata": {},
   "source": [
    "<img src=\"Figuras\\OsOsOs.gif\" alt=\"Drawing\" style=\"width: 250px;\"/>"
   ]
  }
 ],
 "metadata": {
  "kernelspec": {
   "display_name": "Python 3 (ipykernel)",
   "language": "python",
   "name": "python3"
  },
  "language_info": {
   "codemirror_mode": {
    "name": "ipython",
    "version": 3
   },
   "file_extension": ".py",
   "mimetype": "text/x-python",
   "name": "python",
   "nbconvert_exporter": "python",
   "pygments_lexer": "ipython3",
   "version": "3.9.12"
  }
 },
 "nbformat": 4,
 "nbformat_minor": 2
}
