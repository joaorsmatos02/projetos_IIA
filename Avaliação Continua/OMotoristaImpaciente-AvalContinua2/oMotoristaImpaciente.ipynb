{
 "cells": [
  {
   "cell_type": "markdown",
   "metadata": {},
   "source": [
    "# O Motorista Impaciente\n",
    "<img src=\"Figuras\\chaplinImpaciente.gif\" alt=\"Drawing\" style=\"width: 300px;\"/>\n"
   ]
  },
  {
   "cell_type": "markdown",
   "metadata": {},
   "source": [
    "## Introdução\n",
    "Considere o problema do autocarro da avaliação contínua 1 em que um motorista de autocarro com capacidade limitada, sai de uma estação e vai apanhar e largar passageiros de acordo com as reservas, regressando à estação. Ele conhece o mapa da região que corresponde a uma grelha quadrada, sabendo quais as ruas pedonais, quais as de sentido único e o tipo de tráfego em cada rua. Está a par também do tempo médio que leva a atravessar cada rua, que pode ser de tráfego ligeiro, médio ou intenso e tem uma estimativa do tempo que leva cada passageiro a entrar e a sair nas paragens. O seu objectivo é planear o trajecto que leva menos tempo.\n",
    "\n",
    "O motorista de autocarro é um faz tudo, faz lembrar o funcionário do cinema que vende bilhetes e pipocas, senta as pessoas, projecta o filme, limpa o cinema e fecha a porta. Ele não só tem de tratar das reservas, como planear as viagens e conduzir o autocarro. Ele sabe que nos problemas mais complexos, planear de uma forma óptima exige bastante tempo, embora resulte em tempos de viagens mais curtos e menos gasto de combustível. Para piorar, problemas complexos aparecem todos os dias. No entanto, o motorista detesta planear e adora conduzir, e prefere assim fazer rapidamente um plano \"impaciente\", de trajectos para lá do óptimo. que o torna mais feliz."
   ]
  },
  {
   "cell_type": "markdown",
   "metadata": {},
   "source": [
    "## Tem o motorista motivos para a impaciência?\n",
    "<img src=\"Figuras\\waiting.gif\" alt=\"Drawing\" style=\"width: 250px;\"/>\n",
    "\n",
    "Para ajudar a compreender porque o motorista detesta fazer planos quinquenais, Vejam o exemplo seguinte:\n"
   ]
  },
  {
   "cell_type": "code",
   "execution_count": 2,
   "metadata": {},
   "outputs": [],
   "source": [
    "from elEstadoMundo import *\n",
    "from oBus import *"
   ]
  },
  {
   "cell_type": "code",
   "execution_count": 3,
   "metadata": {},
   "outputs": [],
   "source": [
    "capacidade=5\n",
    "estacao=(1,2)\n",
    "pedonais={((4,3),(4,4))}\n",
    "sentidoUnico={((3,3),(3,2)),((1,2),(2,2))}\n",
    "intenso={((3,2),(3,3)),(3,1),(3,2),((2,0),(2,1))}\n",
    "ligeiro={((2,1),(2,2))}\n",
    "tempos={'ligeiro': 50, 'médio': 300, 'intenso': 1000}\n",
    "tempoPassageiro=10\n",
    "clientes={'Valdemar':((3,2),(20,20)),'Francis':((10,10),(4,4)),'Berta':((0,0),(7,0)),'Zulu':((1,3),(2,2))}\n",
    "\n",
    "mundoX=MundoBus(25,estacao,capacidade,pedonais,sentidoUnico,intenso,ligeiro,tempos,tempoPassageiro,clientes)\n",
    "\n",
    "p=OBus(mundo=mundoX)"
   ]
  },
  {
   "cell_type": "markdown",
   "metadata": {},
   "source": [
    "Vamos aplicar o Custo Uniforme, que é o algoritmo que o motorista utiliza, porque a sua mente é pouco heurística."
   ]
  },
  {
   "cell_type": "code",
   "execution_count": 5,
   "metadata": {},
   "outputs": [
    {
     "name": "stdout",
     "output_type": "stream",
     "text": [
      "['n', ([], ['Zulu']), 's', 'e', (['Zulu'], []), 'e', ([], ['Valdemar']), 'o', 's', 'o', 'o', 's', ([], ['Berta']), 'e', 'e', 'e', 'e', 'e', 'e', 'e', (['Berta'], []), 'n', 'n', 'n', 'n', 'n', 'n', 'n', 'n', 'n', 'n', 'e', 'e', 'e', ([], ['Francis']), 'n', 'n', 'n', 'n', 'n', 'n', 'n', 'n', 'n', 'n', 'e', 'e', 'e', 'e', 'e', 'e', 'e', 'e', 'e', 'e', (['Valdemar'], []), 'o', 'o', 'o', 'o', 'o', 'o', 'o', 'o', 'o', 'o', 'o', 'o', 'o', 'o', 'o', 'o', 's', 's', 's', 's', 's', 's', 's', 's', 's', 's', 's', 's', 's', 's', 's', 's', (['Francis'], []), 'o', 'o', 'o', 's', 's']\n",
      "25630\n"
     ]
    }
   ],
   "source": [
    "res_best = uniform_cost_search(p)\n",
    "print(p.prettyPlan(res_best.solution()))\n",
    "print(res_best.path_cost)"
   ]
  },
  {
   "cell_type": "markdown",
   "metadata": {},
   "source": [
    "## Planeamento Impaciente\n",
    "\n",
    "O motorista vai ter de construir um plano global para partir da estação, apanhar e largar todos os clientes e regressar à estação. Mas, como dissemos em cima, esse plano não tem de ser óptimo e correponde à divisão de um problem em subproblemas e à construção de uma sucessão de planos impacientes, mais simples, esses sim óptimos em termos de objectivos de mais curto prazo. \n",
    "\n",
    "Um subproblema mais simples consiste em encontrar apenas a melhor trajectória até ao lugar mais próximo relevante, i.e., que pode ser a estação quando o autocarro está vazio ou a localização de um ou mais clientes ou o lugar de saída de um passageiro ou mais passageiros. Depois de construir o plano óptimo, solução de cada subproblema, o condutor poderá incluir no plano a acção de largar e/ou apanhar passageiros e ataca o subproblema seguinte, até completar o plano.\n",
    "\n",
    "Inicialmente, a partir da estação, ele pretende apanhar os clientes mais próximos e planeia o melhor trajecto para satisfazer esse primeiro objectivo. Tratará de apanhar e/ou largar passageiros nesse lugar e, a seguir, ele terá como objectivo largar ou apanhar os clientes no destino ou localização mais próxima, e assim sucessivamente até largar os últimos passageiros. Aí, irá finalmente considerar o melhor plano para regressar à estação. O plano final corresponderá à concatenação dos planos impacientes parciais, que são impacientes precisamente porque ele deseja sempre planear o melhor trajecto até ao objectivo mais próximo.\n",
    "\n",
    "Notem que, para simplificar, vamos considerar que o autocarro tem sempre capacidade suficiente para caberem todos os clientes. No fundo é como se a sua capacidade fosse ilimitada. \n"
   ]
  },
  {
   "cell_type": "markdown",
   "metadata": {},
   "source": [
    "## ZOOM IN sobre o Replaneamento Impaciente\n",
    "<img src=\"Figuras\\zoomVanGoghIkea.gif\" alt=\"Drawing\" style=\"width: 350px;\"/>\n",
    "\n",
    "O motorista não liga nenhuma ao tráfego ou aos sentidos das ruas quando decide qual o próximo objectivo a planear, apenas toma em consideração a distância ortogonal aos pontos da grelha que são candidatos a serem o próximo objectivo, utilizando a distância de Manhatan. O condutor não está para complicações e em caso de empate, considera o primeiro ponto por ordem crescente dos empatados e que está de acordo com a ordem dos tuplos: primeiro ordenam-se em relação ao primeiro elemento (eixo dos $Xs$) e depois em relação ao segundo elemento (eixo dos $Ys$).  Assim se os dois pontos interessantes mais próximos forem $(2,2)$ e $(1,2)$ ele preferirá o segundo e se forem $(1,2)$ e $(1,3)$ ele preferirá o primeiro.\n",
    "\n",
    "Então vejamos com mais detalhe como planeia o motorista impaciente:\n",
    "\n",
    "1. O motorista começa por ter como objectivo ir apanhar os clientes mais próximos. Para isso planeia o trajecto mais rápido entre a estação e a localização dos clientes que esteja mais próxima. Inicia o plano final com a trajectória criada.\n",
    "\n",
    "2. Apanha os clientes que estão na posição actual, i.e. junta essas acções ao plano final.\n",
    "\n",
    "3. Enquanto houver passageiros para largar ou pessoas para apanhar, define como objectivo seguinte ir da maneira mais rápida até ao lugar mais próximo entre os destinos dos que estão no autocarro e as localizações dos que estão ainda lá fora. Planeado o trajecto óptimo, adiciona-o ao plano final juntamente com as acções de largada e/ou entrada de pessoas no lugar corrente.\n",
    "\n",
    "4. Com o autocarro vazio, o plano agora é o melhor trajecto de regresso à estação que completa o plano final.\n",
    "\n",
    "\n",
    "Como vimos, o plano final é a concatenação dos planos óptimos parciais, separados pelas acções de entrada/saida de pessoas do autocarro, juntamente com o tempo correspondendo à soma dos custos dos vários planos. "
   ]
  },
  {
   "cell_type": "markdown",
   "metadata": {},
   "source": [
    "## Objetivo\n",
    "Desenvolver a função em Python: `planoImpaciente`, que recebe uma instância da classe MundoBus e devolve a lista de planos impacientes.\n",
    "<img src=\"Figuras\\JapaneseBus4.gif\" alt=\"Drawing\" style=\"width: 250px;\"/>"
   ]
  },
  {
   "cell_type": "markdown",
   "metadata": {},
   "source": [
    "## A Função `planoImpaciente`\n",
    "...recebe uma instância da classe `MundoBus` e o plano impaciente final juntamente com a sua duração total. O plano final será uma sequências de acções de movimento: \"s\",\"n\",\"e\" e \"o\" e de apanhar/largar clientes na sua versão pretty, i.e., os conjuntos formados pelos identificadores dos clientes passam a listas ordenadas de forma crescente dos identificadores. Notem que a razão porque passamos conjuntos a listas ordenadas, é porque precisamos de fazer a correcção automática e o proint dos conjuntos é pouco rigoroso. Notem que embora `MundoBus` indique a capacidade do autocarro, esse valor é completamente ignorado para a geração do plano final, porque assumimos que o autocarro tem sempre capaidade infinita. \n",
    "\n",
    "Consideremos alguns exemplos:"
   ]
  },
  {
   "cell_type": "markdown",
   "metadata": {},
   "source": [
    "### Exemplo 1\n",
    "<img src=\"Figuras\\japaneseBus.gif\" alt=\"Drawing\" style=\"width: 350px;\"/>\n",
    "\n",
    "Um dia tranquilo para o motorista, onde só há uma reserva.\n",
    "\n",
    "``` python\n",
    "dimensao=20\n",
    "estacao=(0,0)\n",
    "capacidade=2\n",
    "pedonais={((2,2),(2,3)),((2,2),(3,2)),((1,2),(2,2)),((2,1),(2,2))}\n",
    "sentidoUnico={((5,1),(5,0)),((4,0),(5,0))}\n",
    "intenso={((0,0),(1,0)),((1,0),(2,0))}\n",
    "ligeiro={((2,3),(2,4))}\n",
    "tempos={'ligeiro': 200, 'médio': 500, 'intenso': 2000}\n",
    "tempoPassageiro=10\n",
    "clientes={1:((1,0),(2,0))}\n",
    "mundo1=MundoBus(dimensao,estacao,capacidade,pedonais,sentidoUnico,intenso,ligeiro,tempos,tempoPassageiro,clientes)\n",
    "\n",
    "```"
   ]
  },
  {
   "cell_type": "markdown",
   "metadata": {},
   "source": [
    "Neste caso, o que faz o motorista *Impaciente* é:\n",
    "* planear o melhor caminho até ao cliente, que é ir para norte, depois leste e depois para sul, porque a rua $(0,0)\\rightarrow(1,0)$ é de tráfego intenso, com custo $1500s$,\n",
    "* depois apanha o cliente, com custo $10s$,\n",
    "* planeia o melhor caminho até o destino do cliente, que devido à rua $(1,0)\\rightarrow(2,0)$ ser de tráfego intenso, o obriga a ir para norte, depois leste e sul, que custa $1500s$,\n",
    "* larga-o, custando mais $10s$,\n",
    "* e regressa pelo melhor caminho, que é indo por norte, depois oeste, de novo oeste e finalmente sul, com duração de $2000s$.\n",
    "\n"
   ]
  },
  {
   "cell_type": "markdown",
   "metadata": {},
   "source": [
    "Para testar no python este exemplo faremos:\n",
    "\n",
    "```python\n",
    "planoImpaciente(mundo1)\n",
    "(['n', 'e', 's', ([], [1]), 'n', 'e', 's', ([1], []), 'n', 'o', 'o', 's'], 5020)\n",
    "\n",
    "```\n",
    "Note que o plano ideal, paciente, seria também este, porque só há um cliente, mas isso não acontecerá sempre, muito pelo contrário."
   ]
  },
  {
   "cell_type": "markdown",
   "metadata": {},
   "source": [
    "### Exemplo 2\n",
    "Nesta situação, temos 4 reservas:\n",
    "``` python\n",
    "dimensao=10\n",
    "estacao=(0,0)\n",
    "capacidade=20\n",
    "pedonais={((2,2),(2,3)),((2,2),(3,2)),((1,3),(1,4))}\n",
    "sentidoUnico={((2,1),(2,2)),((3,1),(3,2)),((3,2),(3,3))}\n",
    "intenso={((1,2),(1,3))}\n",
    "ligeiro={((0,2),(0,3)),((0,3),(1,3))}\n",
    "tempos={'ligeiro': 200, 'médio': 500, 'intenso': 1500}\n",
    "tempoPassageiro=10\n",
    "clientes={'A':((1,0),(3,0)),'B':((2,0),(4,0)),'C':((3,0),(5,0)),'D':((0,2),(5,0))}\n",
    "\n",
    "mundo2=MundoBus(dimensao,estacao,capacidade,pedonais,sentidoUnico,intenso,ligeiro,tempos,tempoPassageiro,clientes)\n",
    "```"
   ]
  },
  {
   "cell_type": "markdown",
   "metadata": {},
   "source": [
    "* Dado que o autocarro está na estação, em $(0,0)$, o alvo mais próximo é o cliente A. Planeia o melhor trajecto até $(1,0)$, que é só ir para este. Custo = $500s$, porque é uma rua de intensidade média de tráfego.\n",
    "* Está em $(1,0)$ e apanha o cliente A. Custo = $510s$.\n",
    "* O alvo é agora ir apanhar o B em $(2,0)$. O plano (a trajectória mais rápida) é de novo ir para este. Custo = $1010s$.\n",
    "* Está em $(2,0)$ e apanha o B. Custo = $1020s$.\n",
    "* O objectivo é agora largar o A e apanhar o C (ir para $(3,0)$). Planeia o melhor trajecto, que é ir para este. Custo = $1520s$.\n",
    "* Está em $(3,0)$ e apanha o C depois de largar o A. Custo = $1540s$.\n",
    "* O alvo é agora largar o B (ir para $(4,0)$). Planeia o melhor trajecto, que é ir para este. Custo = $2040s$.\n",
    "* Larga B. O custo está em $2050s$.\n",
    "* Novo objectivo: largar C. Plano: ir para este, com custo $2550s$.\n",
    "* Largar C, com custo $2560s$.\n",
    "* Objectivo `Greedy`: ir apanhar D. Plano: oeste cinco vezes e depois duas vezes norte, com custo acumulado de $6060s$.\n",
    "* Apanha D, com custo $6070s$.\n",
    "* Novo destino: largar D. Plano: 2 vezes sul e este cinco vezes. Custo total: $9570s$.\n",
    "* Larga D, com custo acumulado de $9580s$.\n",
    "* Objectivo: regressar à estação, através de 5 oestes consecutivos, com custo $12080s$."
   ]
  },
  {
   "cell_type": "markdown",
   "metadata": {},
   "source": [
    "Para testar no python este exemplo faremos:\n",
    "\n",
    "```python\n",
    "planoImpaciente(mundo2)\n",
    "(['e',\n",
    "  ([], ['A']),\n",
    "  'e',\n",
    "  ([], ['B']),\n",
    "  'e',\n",
    "  (['A'], ['C']),\n",
    "  'e',\n",
    "  (['B'], []),\n",
    "  'e',\n",
    "  (['C'], []),\n",
    "  'o', 'o', 'o', 'o', 'o', 'n', 'n',\n",
    "  ([], ['D']),\n",
    "  's', 's', 'e', 'e', 'e', 'e', 'e',\n",
    "  (['D'], []),\n",
    "  'o', 'o', 'o', 'o', 'o'],\n",
    " 12080)\n",
    "``` "
   ]
  },
  {
   "cell_type": "markdown",
   "metadata": {},
   "source": [
    "<img src=\"Figuras\\japaneseBus3.gif\" alt=\"Drawing\" style=\"width: 350px;\"/>\n",
    "\n",
    "Notem que o plano ideal de um condutor sem as limitações do nosso condutor *Greedy* seria bastante mais rápido, já que começaria por apanhar C:\n",
    "```\n",
    "norte\n",
    "norte\n",
    "apanhar Dul\n",
    "sul\n",
    "este\n",
    "apanhar A\n",
    "este\n",
    "apanhar B\n",
    "este\n",
    "largar A e apanhar C\n",
    "este\n",
    "largar B\n",
    "este\n",
    "largar C e D\n",
    "oeste\n",
    "oeste\n",
    "oeste\n",
    "oeste\n",
    "oeste\n",
    "```\n",
    "\n",
    "com custo $7080s$\n",
    "\n"
   ]
  },
  {
   "cell_type": "markdown",
   "metadata": {},
   "source": [
    "### Exemplo 3\n",
    "<img src=\"Figuras\\japaneseBus2.gif\" alt=\"Drawing\" style=\"width: 350px;\"/>\n",
    "\n",
    "Este exemplo é exactamente igual ao exemplo que usámos para justificar a impaciência do motorista. Podem confirmar que é muito mais rápido a ser gerado e que tem uma duração claramente maior\n",
    "\n",
    "```python\n",
    "capacidade=2\n",
    "estacao=(1,2)\n",
    "pedonais={((4,3),(4,4))}\n",
    "sentidoUnico={((3,3),(3,2)),((1,2),(2,2))}\n",
    "intenso={((3,2),(3,3)),(3,1),(3,2),((2,0),(2,1))}\n",
    "ligeiro={((2,1),(2,2))}\n",
    "tempos={'ligeiro': 50, 'médio': 300, 'intenso': 1000}\n",
    "tempoPassageiro=10\n",
    "clientes={'Valdemar':((3,2),(20,20)),'Francis':((10,10),(4,4)),'Berta':((0,0),(7,0)),'Zulu':((1,3),(2,2))}\n",
    "\n",
    "mundo3=MundoBus(dimensao,estacao,capacidade,pedonais,sentidoUnico,intenso,ligeiro,tempos,tempoPassageiro,clientes)\n",
    "\n",
    "planoImpaciente(mundo1)\n",
    "```"
   ]
  },
  {
   "cell_type": "markdown",
   "metadata": {},
   "source": [
    "```python\n",
    "(['n',\n",
    "  ([], ['Zulu']),\n",
    "  's',\n",
    "  'e',\n",
    "  (['Zulu'], []),\n",
    "  'e',\n",
    "  ([], ['Valdemar']),\n",
    "  'o',\n",
    "  's',\n",
    "  'o',\n",
    "  'o',\n",
    "  's',\n",
    "  ([], ['Berta']),\n",
    "  'e',\n",
    "  'e',\n",
    "  'e',\n",
    "  'e',\n",
    "  'e',\n",
    "  'e',\n",
    "  'e',\n",
    "  (['Berta'], []),\n",
    "  'n',\n",
    "  'n',\n",
    "  'n',\n",
    "  'n',\n",
    "  'n',\n",
    "  'n',\n",
    "  'n',\n",
    "  'n',\n",
    "  'n',\n",
    "  'n',\n",
    "  'e',\n",
    "  'e',\n",
    "  'e',\n",
    "  ([], ['Francis']),\n",
    "  'o',\n",
    "  'o',\n",
    "  'o',\n",
    "  'o',\n",
    "  'o',\n",
    "  'o',\n",
    "  's',\n",
    "  's',\n",
    "  's',\n",
    "  's',\n",
    "  's',\n",
    "  's',\n",
    "  (['Francis'], []),\n",
    "  'n',\n",
    "  'n',\n",
    "  'n',\n",
    "  'n',\n",
    "  'n',\n",
    "  'n',\n",
    "  'n',\n",
    "  'n',\n",
    "  'n',\n",
    "  'n',\n",
    "  'n',\n",
    "  'n',\n",
    "  'n',\n",
    "  'n',\n",
    "  'n',\n",
    "  'n',\n",
    "  'e',\n",
    "  'e',\n",
    "  'e',\n",
    "  'e',\n",
    "  'e',\n",
    "  'e',\n",
    "  'e',\n",
    "  'e',\n",
    "  'e',\n",
    "  'e',\n",
    "  'e',\n",
    "  'e',\n",
    "  'e',\n",
    "  'e',\n",
    "  'e',\n",
    "  'e',\n",
    "  (['Valdemar'], []),\n",
    "  'o',\n",
    "  'o',\n",
    "  'o',\n",
    "  'o',\n",
    "  'o',\n",
    "  'o',\n",
    "  'o',\n",
    "  'o',\n",
    "  'o',\n",
    "  'o',\n",
    "  'o',\n",
    "  'o',\n",
    "  'o',\n",
    "  'o',\n",
    "  'o',\n",
    "  'o',\n",
    "  'o',\n",
    "  'o',\n",
    "  'o',\n",
    "  's',\n",
    "  's',\n",
    "  's',\n",
    "  's',\n",
    "  's',\n",
    "  's',\n",
    "  's',\n",
    "  's',\n",
    "  's',\n",
    "  's',\n",
    "  's',\n",
    "  's',\n",
    "  's',\n",
    "  's',\n",
    "  's',\n",
    "  's',\n",
    "  's',\n",
    "  's'],\n",
    " 32830)\n",
    "```"
   ]
  },
  {
   "cell_type": "markdown",
   "metadata": {},
   "source": [
    "## Nota\n",
    "A função de replaneamento é avaliada em $0.625$"
   ]
  },
  {
   "cell_type": "markdown",
   "metadata": {},
   "source": [
    "## Ficheiros anexos e imports\n",
    "O ficheiro `elEstadoMundo.py` será importado, juntamente com `utils.py` e `searchPlus.py`, os quais não devem ser alterados. Podem importar os módulos que desejarem."
   ]
  },
  {
   "cell_type": "markdown",
   "metadata": {},
   "source": [
    "## Deadline\n",
    "Esta avaliação contínua é **individual** e terá **correcção automática** sendo submetida através de um quiz na página da disciplina. Para essa correcção automática iremos disponibilizar alguns testes que serão visíveis e outros testes invisíveis. Podem fazer *check* e *submit* as vezes que quiserem, sem quaisquer penalizações, e a nota final será a da tentativa mais elevada sendo a última tentativa submetida automaticamente no fecho do Quiz.\n",
    "\n",
    "O prazo é Terça-feira, $1 \\space de \\space Novembro,\\space às\\space 23:59$."
   ]
  },
  {
   "cell_type": "markdown",
   "metadata": {},
   "source": [
    "<img src=\"Figuras\\russia-bus-disguise-02-aptn-jef-181114_hpEmbed_4x3_992.JPG\" alt=\"Drawing\" style=\"width: 350px;\"/>\n",
    "\n",
    "https://www.ndtv.com/offbeat/4-men-dressed-up-as-a-bus-to-cross-vehicle-only-bridge-video-will-make-you-lol-1947013"
   ]
  }
 ],
 "metadata": {
  "kernelspec": {
   "display_name": "Python 3.10.7 64-bit",
   "language": "python",
   "name": "python3"
  },
  "language_info": {
   "codemirror_mode": {
    "name": "ipython",
    "version": 3
   },
   "file_extension": ".py",
   "mimetype": "text/x-python",
   "name": "python",
   "nbconvert_exporter": "python",
   "pygments_lexer": "ipython3",
   "version": "3.10.7"
  },
  "vscode": {
   "interpreter": {
    "hash": "1e18c1a55377fd1423d44964f2b377bbbd3dd4702a92964ed2006009ff3bee9f"
   }
  }
 },
 "nbformat": 4,
 "nbformat_minor": 2
}
