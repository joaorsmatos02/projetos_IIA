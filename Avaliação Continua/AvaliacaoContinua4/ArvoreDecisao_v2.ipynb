{
 "cells": [
  {
   "cell_type": "markdown",
   "metadata": {},
   "source": [
    "# Introdução à Inteligência Artificial 22/23 \n",
    "## AVALIAÇÃO CONTÍNUA\n",
    "<img src=\"Imagens\\four.gif\" width=\"120\">\n",
    "\n",
    "### Entrega até: 18 De Dezembro (23:59)"
   ]
  },
  {
   "cell_type": "markdown",
   "metadata": {},
   "source": [
    "##  SPAM E NÃO-SPAM\n",
    "Exercício retirado do 2º exame 21/22\n",
    "<img src=\"Imagens\\SPAMspaceship.gif\" width=\"180\">"
   ]
  },
  {
   "cell_type": "markdown",
   "metadata": {},
   "source": [
    "Considere o conjunto de treino seguinte, em que os quadrados representam email de spam\n",
    "e os círculos representam email não-spam.\n",
    "\n",
    "<img src=\"Imagens\\grelhaSirMadam.PNG\" width=\"350\">"
   ]
  },
  {
   "cell_type": "markdown",
   "metadata": {},
   "source": [
    "Considere 3 intervalos em cada um dos atributos,\n",
    "\n",
    "$[0, 12.5[, \\space [12.5, 25[ \\space e \\space [25, ...[$ no eixo vertical\n",
    "\n",
    "$[0, 250[, \\space [250, 500[ \\space e \\space [500, ...[$ no eixo horizontal\n",
    "\n",
    "Nesta situação, qual é o atributo escolhido para a raiz de uma árvore de decisão,\n",
    "induzida pelo critério da menor entropia restante?"
   ]
  },
  {
   "cell_type": "markdown",
   "metadata": {},
   "source": [
    "## Objetivos\n",
    "\n",
    "Nesta avaliação vamos desenvolver código Python para resolver exercícios semelhantes ao do Spam vs não-Spam. Os objetivos são dois que implicam desenvolver duas funções de modo a:\n",
    "\n",
    "1. Discretizar um conjunto de dados numéricos fornecendo os intervalos de discretização. Não somos obrigados a discretizar todos os atributos. Teremos que indicar quais os índices dos atributos a discretizar juntamente com os intervalos respetivos.\n",
    "2. Escolher o melhor atributo para a raíz da árvore de decisão, considerando um conjunto de dados."
   ]
  },
  {
   "cell_type": "markdown",
   "metadata": {},
   "source": [
    "## Representação dos dados\n",
    "#### Pontos\n",
    "\n",
    "Vamos assumir que os dados são representados através de um dicionário em que cada ponto tem uma etiqueta que o identifica (formando as chaves do dicionário), e os valores são tuplos em que os $n-1$ primeiros elementos do tuplo serão os valores de cada um dos atributos, e o último elemento do tuplo corresponde à classe."
   ]
  },
  {
   "cell_type": "markdown",
   "metadata": {},
   "source": [
    "Começamos por representar os dados no exemplo SPAM, que guardamos na variável `pontos`. Vamos identificar os dados SPAM como *preto* e os dados não-SPAM como *branco*."
   ]
  },
  {
   "cell_type": "markdown",
   "metadata": {},
   "source": [
    "```python\n",
    "pontos = {'A':(100,10,'preto'), 'B':(200,5,'branco'), 'C':(100,25,'preto'), 'D':(400,30,'preto'), \\\n",
    "        'E':(300,20,'preto'), 'F':(400,0,'branco'), 'G':(500,20,'branco'), 'H':(600,10,'branco'), \\\n",
    "        'I':(600,30,'preto'), 'J':(700,15,'preto'), 'K':(700,7,'preto'), 'L':(700,3,'branco')}\n",
    "```"
   ]
  },
  {
   "cell_type": "markdown",
   "metadata": {},
   "source": [
    "#### As classes e os atributos\n",
    "\n",
    "Também temos uma lista com o nome das classes e uma com o nome dos atributos, estes pela mesma ordem que os elementos do tuplo da variável `pontos`."
   ]
  },
  {
   "cell_type": "markdown",
   "metadata": {},
   "source": [
    "```python\n",
    "classes = ['branco', 'preto']\n",
    "atributos = ['numero_palavras', 'sir_madam']\n",
    "```\n",
    "Assim, por exemplo, 'A':(100,10,'preto') é da classe *spam* e tem 'numero_palavras' = 100 e 'sir_madam' = 10.\n"
   ]
  },
  {
   "cell_type": "markdown",
   "metadata": {},
   "source": [
    "#### E os valores dos atributos?\n",
    "Como os valores dos atributos neste exemplo do SPAM ainda não estão discretizados não vamos representar os domínios de cada atributo, para já. Teremos primeiro que os discretizar!"
   ]
  },
  {
   "cell_type": "markdown",
   "metadata": {},
   "source": [
    "## Discretização\n",
    "A primeira função a implementar nesta avaliação contínua é `transformaPontos` que pega nos pontos do conjunto de dados e numa lista de intervalos (ordenada de acordo com a ordem nos tuplos) e devolve novos pontos.\n",
    "\n",
    "Por exemplo, no exercício de exame SPAM, os intervalos são\n",
    "```python\n",
    "[0,250[, [250,500[ e [500,+[ para o atributo 'numero_palavras'.\n",
    "\n",
    "Assim vamos ter um novo atributo discreto em que teremos 3 valores: 1, 2 e 3.\n",
    "    * 1 para cada valor em [0,250[\n",
    "    * 2 para cada valor em [250,500[\n",
    "    * 3 para cada valor em [500,+[\n",
    "```"
   ]
  },
  {
   "cell_type": "markdown",
   "metadata": {},
   "source": [
    "Vamos primeiro transformar os dados de acordo com a discretização proposta.\n",
    "Notem que se temos 3 intervalos, os valores do atributo convertido pertencerão a $[1,2,3]$.\n",
    "\n",
    "Note ainda que os intervalos de um atributo são todos colocados numa lista apenas formados pelos pontos importantes. No caso do intervalo de discretização para o atributo 'numero_palavras' teremos uma lista com dois elementos, $[ 250,500 ]$, que representa os 3 intervalos ([0,250[, [250,500[ e [500,+[).\n",
    "\n",
    "Eis o dicionário de intervalos em que as chaves são os índices dos atributos a discretizar (de acordo com a lista `atributos`definida anteriormente), e os valores são as listas de números que correspondem aos intervalos.\n",
    "\n",
    "Por exemplo, para o exercício do SPAM:"
   ]
  },
  {
   "cell_type": "markdown",
   "metadata": {},
   "source": [
    "```python\n",
    "intervalos = {0:[250,500], 1:[12.5,25]}\n",
    "```"
   ]
  },
  {
   "cell_type": "markdown",
   "metadata": {},
   "source": [
    "Vamos converter os dados, i.e., discretizá-los, usando a função `transformaPontos`, a qual pega nos dados e na lista de intervalos e devolve um novo dicionário com os dados discretizados."
   ]
  },
  {
   "cell_type": "markdown",
   "metadata": {},
   "source": [
    "```python\n",
    "data = transformaPontos(pontos,intervalos)\n",
    "print(data)\n",
    "```"
   ]
  },
  {
   "cell_type": "markdown",
   "metadata": {},
   "source": [
    "```python\n",
    "{'A': (1, 1, 'preto'), 'B': (1, 1, 'branco'), 'C': (1, 3, 'preto'), 'D': (2, 3, 'preto'), 'E': (2, 2, 'preto'), 'F': (2, 1, 'branco'), 'G': (3, 2, 'branco'), 'H': (3, 1, 'branco'), 'I': (3, 3, 'preto'), 'J': (3, 2, 'preto'), 'K': (3, 1, 'preto'), 'L': (3, 1, 'branco')}\n",
    "```"
   ]
  },
  {
   "cell_type": "markdown",
   "metadata": {},
   "source": [
    "#### Valores dos Atributos?\n",
    "Agora já podemos representar os domínios dos atributos. Vamos usar uma lista para fazer uma correspondência entre os índices dos atributos e os índices dos seus valores. No caso do SPAM, teremos 3 valores para cada um dos atributos depois de discretizados."
   ]
  },
  {
   "cell_type": "markdown",
   "metadata": {},
   "source": [
    "```python\n",
    "valores = [[1,2,3]]*2\n",
    "```"
   ]
  },
  {
   "cell_type": "markdown",
   "metadata": {},
   "source": [
    "## Escolha do melhor atributo\n",
    "\n",
    "Vamos escolher o melhor atributo para a raíz da árvore de decisão através da função a implementar `escolheAtributo`, em que passamos como input:\n",
    "* os dados com todos os atributos discretos, \n",
    "* a lista com os índices dos atributos para seleção, \n",
    "* a lista com os domínios de todos os atributos,\n",
    "* a lista com as classes e\n",
    "* um boolean a indicar se queremos o não o modo pedagógico (modo `verbose`), por omissão não queremos\n",
    "\n",
    "e devolve como output um tuplo com:\n",
    "* uma lista contendo os pares atributo/entropia, \n",
    "* o melhor par atributo/entropia (em caso de empate, respeita a ordem dos atributos!),\n",
    "* uma lista de dicionários com a divisão dos dados, que satisfaz cada valor do atributo.\n",
    "\n",
    "O output é sempre o mesmo, independentemente do modo pedagógico estar activo ou não. O que muda são as mensagens impressas ao longo do processo de seleção do atributo. A seguir apresentaremos exemplos.\n",
    "\n",
    "**Note que a implementação do modo verbose deve respeitar o output apresentado nos exemplos, nomeadamente:**\n",
    "* **terá de garantir que usa o mesmo tipo de formatação incluindo o texto apresentado,**\n",
    "* **efectue todos os cálculos sem arredondamentos e arredonde apenas o resultado final com 4 casas decimais (obrigatório para que passe os testes automáticos).**"
   ]
  },
  {
   "cell_type": "markdown",
   "metadata": {},
   "source": [
    "No caso do exercício de SPAM do exame, invocaríamos a função sobre a variável `data` que é o dicionário com os dados discretizados."
   ]
  },
  {
   "cell_type": "markdown",
   "metadata": {},
   "source": [
    "```python\n",
    "output = escolheAtributo(data,[0,1],valores,classes)\n",
    "print(output)\n",
    "\n",
    "([(0, 0.9591), (1, 0.6887)], (1, 0.6887), [{'A': (1, 1, 'preto'), 'B': (1, 1, 'branco'), 'F': (2, 1, 'branco'), 'H': (3, 1, 'branco'), 'K': (3, 1, 'preto'), 'L': (3, 1, 'branco')}, {'E': (2, 2, 'preto'), 'G': (3, 2, 'branco'), 'J': (3, 2, 'preto')}, {'C': (1, 3, 'preto'), 'D': (2, 3, 'preto'), 'I': (3, 3, 'preto')}])\n",
    "```"
   ]
  },
  {
   "cell_type": "markdown",
   "metadata": {},
   "source": [
    "Com o modo pedagógico ativado teríamos o output seguinte:"
   ]
  },
  {
   "cell_type": "markdown",
   "metadata": {},
   "source": [
    "```python\n",
    "output = escolheAtributo(data,[0,1],valores,['branco','preto'],True)\n",
    "print(output)\n",
    "\n",
    "---> Vamos verificar o atributo com índice: 0\n",
    "filtro os dados para o atributo 0 = 1\n",
    "{'A': (1, 1, 'preto'), 'B': (1, 1, 'branco'), 'C': (1, 3, 'preto')}\n",
    "filtro os dados para o atributo 0 = 2\n",
    "{'D': (2, 3, 'preto'), 'E': (2, 2, 'preto'), 'F': (2, 1, 'branco')}\n",
    "filtro os dados para o atributo 0 = 3\n",
    "{'G': (3, 2, 'branco'), 'H': (3, 1, 'branco'), 'I': (3, 3, 'preto'), 'J': (3, 2, 'preto'), 'K': (3, 1, 'preto'), 'L': (3, 1, 'branco')}\n",
    "Distribuição dos pontos pelas classes: [[1, 2], [1, 2], [3, 3]]\n",
    "entropia([1, 2])=-1/3.log2(1/3)-2/3.log2(2/3)=0.9183\n",
    "entropia([1, 2])=-1/3.log2(1/3)-2/3.log2(2/3)=0.9183\n",
    "entropia([3, 3])=-3/6.log2(3/6)-3/6.log2(3/6)=1.0\n",
    "entropiaMédia([[1, 2], [1, 2], [3, 3]])=3/12x0.9183+3/12x0.9183+6/12x1.0=0.9591\n",
    "---> Vamos verificar o atributo com índice: 1\n",
    "filtro os dados para o atributo 1 = 1\n",
    "{'A': (1, 1, 'preto'), 'B': (1, 1, 'branco'), 'F': (2, 1, 'branco'), 'H': (3, 1, 'branco'), 'K': (3, 1, 'preto'), 'L': (3, 1, 'branco')}\n",
    "filtro os dados para o atributo 1 = 2\n",
    "{'E': (2, 2, 'preto'), 'G': (3, 2, 'branco'), 'J': (3, 2, 'preto')}\n",
    "filtro os dados para o atributo 1 = 3\n",
    "{'C': (1, 3, 'preto'), 'D': (2, 3, 'preto'), 'I': (3, 3, 'preto')}\n",
    "Distribuição dos pontos pelas classes: [[4, 2], [1, 2], [0, 3]]\n",
    "entropia([4, 2])=-4/6.log2(4/6)-2/6.log2(2/6)=0.9183\n",
    "entropia([1, 2])=-1/3.log2(1/3)-2/3.log2(2/3)=0.9183\n",
    "entropia([0, 3])=-0/3.log2(0/3)-3/3.log2(3/3)=0.0\n",
    "entropiaMédia([[4, 2], [1, 2], [0, 3]])=6/12x0.9183+3/12x0.9183+3/12x0.0=0.6887\n",
    "([(0, 0.9591), (1, 0.6887)], (1, 0.6887), [{'A': (1, 1, 'preto'), 'B': (1, 1, 'branco'), 'F': (2, 1, 'branco'), 'H': (3, 1, 'branco'), 'K': (3, 1, 'preto'), 'L': (3, 1, 'branco')}, {'E': (2, 2, 'preto'), 'G': (3, 2, 'branco'), 'J': (3, 2, 'preto')}, {'C': (1, 3, 'preto'), 'D': (2, 3, 'preto'), 'I': (3, 3, 'preto')}])\n",
    "```"
   ]
  },
  {
   "cell_type": "markdown",
   "metadata": {},
   "source": [
    "## Exemplo 1: Spam vs Não-spam\n",
    "\n",
    "Após implementação das funções pedidas (`transformaPontos` e `escolheAtributos`), verifique se a sua solução para o problema Spam vs Não-spam está de acordo com o apresentado anteriormente."
   ]
  },
  {
   "cell_type": "markdown",
   "metadata": {},
   "source": [
    "## Exemplo 2: Exemplo binário\n",
    "Neste exemplo não precisamos de discretizar os atributos. Retirado de um dos exames.\n",
    "<img src=\"Imagens\\binariosDados.PNG\" width=\"200\">"
   ]
  },
  {
   "cell_type": "markdown",
   "metadata": {},
   "source": [
    "```python\n",
    "pontos = {1:(0,0,0,0,'+'), 2:(0,0,1,0,'+'), 3:(0,1,0,1,'+'), 4:(0,1,1,0,'-'), \\\n",
    "        5:(1,0,0,1,'-'), 6:(1,0,1,1,'-'), 7:(1,1,0,0,'+'), 8:(1,1,1,1,'-')}\n",
    "```"
   ]
  },
  {
   "cell_type": "markdown",
   "metadata": {},
   "source": [
    "```python\n",
    "classes = ['+','-']\n",
    "atributos = ['A','B','C','D']\n",
    "```"
   ]
  },
  {
   "cell_type": "markdown",
   "metadata": {},
   "source": [
    "Invoquemos a função `escolheAtributo`"
   ]
  },
  {
   "cell_type": "markdown",
   "metadata": {},
   "source": [
    "```python\n",
    "output = escolheAtributo(pontos,[0,1,2,3],[[0,1]]*4,classes)\n",
    "print(output)\n",
    "\n",
    "([(0, 0.8113), (1, 1.0), (2, 0.8113), (3, 0.8113)], (0, 0.8113), [{1: (0, 0, 0, 0, '+'), 2: (0, 0, 1, 0, '+'), 3: (0, 1, 0, 1, '+'), 4: (0, 1, 1, 0, '-')}, {5: (1, 0, 0, 1, '-'), 6: (1, 0, 1, 1, '-'), 7: (1, 1, 0, 0, '+'), 8: (1, 1, 1, 1, '-')}])\n",
    "```"
   ]
  },
  {
   "cell_type": "markdown",
   "metadata": {},
   "source": [
    "Com o modo pedagógico activo:\n",
    "```python\n",
    "output = escolheAtributo(pontos,[0,1,2,3],[[0,1]]*4,classes,True)\n",
    "print(output)\n",
    "\n",
    "---> Vamos verificar o atributo com índice: 0\n",
    "filtro os dados para o atributo 0 = 0\n",
    "{1: (0, 0, 0, 0, '+'), 2: (0, 0, 1, 0, '+'), 3: (0, 1, 0, 1, '+'), 4: (0, 1, 1, 0, '-')}\n",
    "filtro os dados para o atributo 0 = 1\n",
    "{5: (1, 0, 0, 1, '-'), 6: (1, 0, 1, 1, '-'), 7: (1, 1, 0, 0, '+'), 8: (1, 1, 1, 1, '-')}\n",
    "Distribuição dos pontos pelas classes: [[3, 1], [1, 3]]\n",
    "entropia([3, 1])=-3/4.log2(3/4)-1/4.log2(1/4)=0.8113\n",
    "entropia([1, 3])=-1/4.log2(1/4)-3/4.log2(3/4)=0.8113\n",
    "entropiaMédia([[3, 1], [1, 3]])=4/8x0.8113+4/8x0.8113=0.8113\n",
    "---> Vamos verificar o atributo com índice: 1\n",
    "filtro os dados para o atributo 1 = 0\n",
    "{1: (0, 0, 0, 0, '+'), 2: (0, 0, 1, 0, '+'), 5: (1, 0, 0, 1, '-'), 6: (1, 0, 1, 1, '-')}\n",
    "filtro os dados para o atributo 1 = 1\n",
    "{3: (0, 1, 0, 1, '+'), 4: (0, 1, 1, 0, '-'), 7: (1, 1, 0, 0, '+'), 8: (1, 1, 1, 1, '-')}\n",
    "Distribuição dos pontos pelas classes: [[2, 2], [2, 2]]\n",
    "entropia([2, 2])=-2/4.log2(2/4)-2/4.log2(2/4)=1.0\n",
    "entropia([2, 2])=-2/4.log2(2/4)-2/4.log2(2/4)=1.0\n",
    "entropiaMédia([[2, 2], [2, 2]])=4/8x1.0+4/8x1.0=1.0\n",
    "---> Vamos verificar o atributo com índice: 2\n",
    "filtro os dados para o atributo 2 = 0\n",
    "{1: (0, 0, 0, 0, '+'), 3: (0, 1, 0, 1, '+'), 5: (1, 0, 0, 1, '-'), 7: (1, 1, 0, 0, '+')}\n",
    "filtro os dados para o atributo 2 = 1\n",
    "{2: (0, 0, 1, 0, '+'), 4: (0, 1, 1, 0, '-'), 6: (1, 0, 1, 1, '-'), 8: (1, 1, 1, 1, '-')}\n",
    "Distribuição dos pontos pelas classes: [[3, 1], [1, 3]]\n",
    "entropia([3, 1])=-3/4.log2(3/4)-1/4.log2(1/4)=0.8113\n",
    "entropia([1, 3])=-1/4.log2(1/4)-3/4.log2(3/4)=0.8113\n",
    "entropiaMédia([[3, 1], [1, 3]])=4/8x0.8113+4/8x0.8113=0.8113\n",
    "---> Vamos verificar o atributo com índice: 3\n",
    "filtro os dados para o atributo 3 = 0\n",
    "{1: (0, 0, 0, 0, '+'), 2: (0, 0, 1, 0, '+'), 4: (0, 1, 1, 0, '-'), 7: (1, 1, 0, 0, '+')}\n",
    "filtro os dados para o atributo 3 = 1\n",
    "{3: (0, 1, 0, 1, '+'), 5: (1, 0, 0, 1, '-'), 6: (1, 0, 1, 1, '-'), 8: (1, 1, 1, 1, '-')}\n",
    "Distribuição dos pontos pelas classes: [[3, 1], [1, 3]]\n",
    "entropia([3, 1])=-3/4.log2(3/4)-1/4.log2(1/4)=0.8113\n",
    "entropia([1, 3])=-1/4.log2(1/4)-3/4.log2(3/4)=0.8113\n",
    "entropiaMédia([[3, 1], [1, 3]])=4/8x0.8113+4/8x0.8113=0.8113\n",
    "([(0, 0.8113), (1, 1.0), (2, 0.8113), (3, 0.8113)], (0, 0.8113), [{1: (0, 0, 0, 0, '+'), 2: (0, 0, 1, 0, '+'), 3: (0, 1, 0, 1, '+'), 4: (0, 1, 1, 0, '-')}, {5: (1, 0, 0, 1, '-'), 6: (1, 0, 1, 1, '-'), 7: (1, 1, 0, 0, '+'), 8: (1, 1, 1, 1, '-')}])\n",
    "```"
   ]
  },
  {
   "cell_type": "markdown",
   "metadata": {},
   "source": [
    "## Exemplo 3: 3 classes numa grelha 2D\n",
    "Adaptado de um dos exames. Queremos discretizar os dados em intervalos de 2 ($[0,2[, [2,4[, [4,6[, ...$), em ambos os atributos. E depois queremos escolher o melhor atributo para a raíz de uma árvore de decisão.\n",
    "<img src=\"Imagens\\grelhaSuja.PNG\" width=\"200\">"
   ]
  },
  {
   "cell_type": "markdown",
   "metadata": {},
   "source": [
    "```python\n",
    "pontos = {1:(0.5,3.5,'quadrado'), 2:(0.5,6.5,'bola'), 3:(1.5,5.5,'quadrado'), \n",
    "        4:(1.5,8.5,'bola'),5:(2.5,1.5,'quadrado'), 6:(2.5,3.5,'quadrado'),\n",
    "        7:(3.5,4.5,'quadrado'), 8:(4.5,0.5,'quadrado'),9:(4.5,2.5,'quadrado'),\n",
    "        10:(4.5,7.5,'bola'), 11:(6.5,1.5,'quadrado'), 12:(7.5,1.5,'x'),\n",
    "        13:(7.5,3.5,'x'), 14:(7.5,5.5,'bola'), 15:(7.5,8.5,'bola'),\n",
    "        16:(8.5,2.5,'x'),17:(8.5,4.5,'bola')}\n",
    "```"
   ]
  },
  {
   "cell_type": "markdown",
   "metadata": {},
   "source": [
    "```python\n",
    "intervalos = {0:[2,4,6,8],1:[2,4,6,8]}\n",
    "classes = ['quadrado','bola','x']\n",
    "atributos = ['X','Y']\n",
    "```"
   ]
  },
  {
   "cell_type": "markdown",
   "metadata": {},
   "source": [
    "Vamos discretizar"
   ]
  },
  {
   "cell_type": "markdown",
   "metadata": {},
   "source": [
    "```python\n",
    "data = transformaPontos(pontos,intervalos)\n",
    "print(data)\n",
    "\n",
    "{1: (1, 2, 'quadrado'), 2: (1, 4, 'bola'), 3: (1, 3, 'quadrado'), 4: (1, 5, 'bola'), 5: (2, 1, 'quadrado'), 6: (2, 2, 'quadrado'), 7: (2, 3, 'quadrado'), 8: (3, 1, 'quadrado'), 9: (3, 2, 'quadrado'), 10: (3, 4, 'bola'), 11: (4, 1, 'quadrado'), 12: (4, 1, 'x'), 13: (4, 2, 'x'), 14: (4, 3, 'bola'), 15: (4, 5, 'bola'), 16: (5, 2, 'x'), 17: (5, 3, 'bola')}\n",
    "```"
   ]
  },
  {
   "cell_type": "markdown",
   "metadata": {},
   "source": [
    "Vamos seleccionar o melhor atributo:"
   ]
  },
  {
   "cell_type": "markdown",
   "metadata": {},
   "source": [
    "``` python\n",
    "output = escolheAtributo(data,[0,1],[[1,2,3,4,5]]*2,classes)\n",
    "print(output)\n",
    "\n",
    "([(0, 0.9626), (1, 0.7118)], (1, 0.7118), [{5: (2, 1, 'quadrado'), 8: (3, 1, 'quadrado'), 11: (4, 1, 'quadrado'), 12: (4, 1, 'x')}, {1: (1, 2, 'quadrado'), 6: (2, 2, 'quadrado'), 9: (3, 2, 'quadrado'), 13: (4, 2, 'x'), 16: (5, 2, 'x')}, {3: (1, 3, 'quadrado'), 7: (2, 3, 'quadrado'), 14: (4, 3, 'bola'), 17: (5, 3, 'bola')}, {2: (1, 4, 'bola'), 10: (3, 4, 'bola')}, {4: (1, 5, 'bola'), 15: (4, 5, 'bola')}])\n",
    "```"
   ]
  },
  {
   "cell_type": "markdown",
   "metadata": {},
   "source": [
    "Activando o modo pedagógico:"
   ]
  },
  {
   "cell_type": "markdown",
   "metadata": {},
   "source": [
    "```python\n",
    "output = escolheAtributo(data,[0,1],[[1,2,3,4,5]]*2,classes,True)\n",
    "print(output)\n",
    "\n",
    "---> Vamos verificar o atributo com índice: 0\n",
    "filtro os dados para o atributo 0 = 1\n",
    "{1: (1, 2, 'quadrado'), 2: (1, 4, 'bola'), 3: (1, 3, 'quadrado'), 4: (1, 5, 'bola')}\n",
    "filtro os dados para o atributo 0 = 2\n",
    "{5: (2, 1, 'quadrado'), 6: (2, 2, 'quadrado'), 7: (2, 3, 'quadrado')}\n",
    "filtro os dados para o atributo 0 = 3\n",
    "{8: (3, 1, 'quadrado'), 9: (3, 2, 'quadrado'), 10: (3, 4, 'bola')}\n",
    "filtro os dados para o atributo 0 = 4\n",
    "{11: (4, 1, 'quadrado'), 12: (4, 1, 'x'), 13: (4, 2, 'x'), 14: (4, 3, 'bola'), 15: (4, 5, 'bola')}\n",
    "filtro os dados para o atributo 0 = 5\n",
    "{16: (5, 2, 'x'), 17: (5, 3, 'bola')}\n",
    "Distribuição dos pontos pelas classes: [[2, 2, 0], [3, 0, 0], [2, 1, 0], [1, 2, 2], [0, 1, 1]]\n",
    "entropia([2, 2, 0])=-2/4.log2(2/4)-2/4.log2(2/4)-0/4.log2(0/4)=1.0\n",
    "entropia([3, 0, 0])=-3/3.log2(3/3)-0/3.log2(0/3)-0/3.log2(0/3)=0.0\n",
    "entropia([2, 1, 0])=-2/3.log2(2/3)-1/3.log2(1/3)-0/3.log2(0/3)=0.9183\n",
    "entropia([1, 2, 2])=-1/5.log2(1/5)-2/5.log2(2/5)-2/5.log2(2/5)=1.5219\n",
    "entropia([0, 1, 1])=-0/2.log2(0/2)-1/2.log2(1/2)-1/2.log2(1/2)=1.0\n",
    "entropiaMédia([[2, 2, 0], [3, 0, 0], [2, 1, 0], [1, 2, 2], [0, 1, 1]])=4/17x1.0+3/17x0.0+3/17x0.9183+5/17x1.5219+2/17x1.0=0.9626\n",
    "---> Vamos verificar o atributo com índice: 1\n",
    "filtro os dados para o atributo 1 = 1\n",
    "{5: (2, 1, 'quadrado'), 8: (3, 1, 'quadrado'), 11: (4, 1, 'quadrado'), 12: (4, 1, 'x')}\n",
    "filtro os dados para o atributo 1 = 2\n",
    "{1: (1, 2, 'quadrado'), 6: (2, 2, 'quadrado'), 9: (3, 2, 'quadrado'), 13: (4, 2, 'x'), 16: (5, 2, 'x')}\n",
    "filtro os dados para o atributo 1 = 3\n",
    "{3: (1, 3, 'quadrado'), 7: (2, 3, 'quadrado'), 14: (4, 3, 'bola'), 17: (5, 3, 'bola')}\n",
    "filtro os dados para o atributo 1 = 4\n",
    "{2: (1, 4, 'bola'), 10: (3, 4, 'bola')}\n",
    "filtro os dados para o atributo 1 = 5\n",
    "{4: (1, 5, 'bola'), 15: (4, 5, 'bola')}\n",
    "Distribuição dos pontos pelas classes: [[3, 0, 1], [3, 0, 2], [2, 2, 0], [0, 2, 0], [0, 2, 0]]\n",
    "entropia([3, 0, 1])=-3/4.log2(3/4)-0/4.log2(0/4)-1/4.log2(1/4)=0.8113\n",
    "entropia([3, 0, 2])=-3/5.log2(3/5)-0/5.log2(0/5)-2/5.log2(2/5)=0.971\n",
    "entropia([2, 2, 0])=-2/4.log2(2/4)-2/4.log2(2/4)-0/4.log2(0/4)=1.0\n",
    "entropia([0, 2, 0])=-0/2.log2(0/2)-2/2.log2(2/2)-0/2.log2(0/2)=0.0\n",
    "entropia([0, 2, 0])=-0/2.log2(0/2)-2/2.log2(2/2)-0/2.log2(0/2)=0.0\n",
    "entropiaMédia([[3, 0, 1], [3, 0, 2], [2, 2, 0], [0, 2, 0], [0, 2, 0]])=4/17x0.8113+5/17x0.971+4/17x1.0+2/17x0.0+2/17x0.0=0.7118\n",
    "([(0, 0.9626), (1, 0.7118)], (1, 0.7118), [{5: (2, 1, 'quadrado'), 8: (3, 1, 'quadrado'), 11: (4, 1, 'quadrado'), 12: (4, 1, 'x')}, {1: (1, 2, 'quadrado'), 6: (2, 2, 'quadrado'), 9: (3, 2, 'quadrado'), 13: (4, 2, 'x'), 16: (5, 2, 'x')}, {3: (1, 3, 'quadrado'), 7: (2, 3, 'quadrado'), 14: (4, 3, 'bola'), 17: (5, 3, 'bola')}, {2: (1, 4, 'bola'), 10: (3, 4, 'bola')}, {4: (1, 5, 'bola'), 15: (4, 5, 'bola')}])\n",
    "```"
   ]
  },
  {
   "cell_type": "markdown",
   "metadata": {},
   "source": [
    "## Quizz\n",
    "\n",
    "Esta avaliação vale 1.25 em 20 e é um Quiz do Moodle com correção automática. Os testes visíveis e invisíveis relacionados com o modo pedagógico inativo (modo verbose) valem 0.4 e os testes relacionados com o modo ativo valem 0.85. Podem submeter as vezes que quiserem sem penalizações. O prazo é **18 de Dezembro às 23:59**."
   ]
  },
  {
   "cell_type": "markdown",
   "metadata": {},
   "source": [
    "<img src=\"Imagens\\fourRabbits.gif\" width=\"180\">"
   ]
  }
 ],
 "metadata": {
  "kernelspec": {
   "display_name": "Python 3",
   "language": "python",
   "name": "python3"
  },
  "language_info": {
   "codemirror_mode": {
    "name": "ipython",
    "version": 3
   },
   "file_extension": ".py",
   "mimetype": "text/x-python",
   "name": "python",
   "nbconvert_exporter": "python",
   "pygments_lexer": "ipython3",
   "version": "3.10.7 (tags/v3.10.7:6cc6b13, Sep  5 2022, 14:08:36) [MSC v.1933 64 bit (AMD64)]"
  },
  "vscode": {
   "interpreter": {
    "hash": "1e18c1a55377fd1423d44964f2b377bbbd3dd4702a92964ed2006009ff3bee9f"
   }
  }
 },
 "nbformat": 4,
 "nbformat_minor": 2
}
