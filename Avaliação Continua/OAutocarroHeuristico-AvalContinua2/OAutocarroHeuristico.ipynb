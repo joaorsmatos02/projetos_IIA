{
 "cells": [
  {
   "cell_type": "markdown",
   "metadata": {},
   "source": [
    "# O Autocarro Heurístico\n",
    "\n",
    "<img src=\"Figuras\\LondonBus.gif\" alt=\"Drawing\" style=\"width: 250px;\"/>"
   ]
  },
  {
   "cell_type": "markdown",
   "metadata": {},
   "source": [
    "## Introdução\n",
    "Considere o problema do autocarro da avaliação contínua 1 em que um condutor de autocarro com capacidade limitada, sai de uma estação e vai apanhar e largar passageiros de acordo com as reservas, regressando à estação. Ele conhece o mapa da região que corresponde a uma grelha quadrada, sabendo quais as ruas pedonais, quais as de sentido único e o tipo de tráfego em cada rua. Está a par também do tempo médio que leva a atravessar cada rua, que pode ser de tráfego ligeiro, médio ou intenso e tem uma estimativa do tempo que leva cada passageiro a entrar e a sair nas paragens. O seu objectivo é planear o trajecto que leva menos tempo."
   ]
  },
  {
   "cell_type": "markdown",
   "metadata": {},
   "source": [
    "## Objetivos\n",
    "Terão de implementar uma função heurística consistente, que iremos descrever e ilustrar já a seguir, e que garante a solução óptima se usarmos o algoritmo A* na versão em grafo."
   ]
  },
  {
   "cell_type": "markdown",
   "metadata": {},
   "source": [
    "## Função Heurística"
   ]
  },
  {
   "cell_type": "markdown",
   "metadata": {},
   "source": [
    "### Descrição Geral da Função Heurística \n",
    "Uma função heurística é sempre uma estimativa do custo mínimo de cada estado ao objectivo. No problema do autocarro, o custo é o tempo estimado que demora a fazer um trajecto que parte da estação, apanhando e largando clientes, regressando à estação, numa grelha com possibilidades de restrições nos sentidos da circulação das ruas. Como sabem, as ruas podem ser de 3 tipos em termos de intensidade de tráfego, sendo o tempo médio de circulação numa rua dependente da respectiva intensidade e tendo em consideração o tempo médio de paragem para carregar e descarregar pessoas.\n",
    "\n",
    "Para que esta heurística seja admissível, é preciso subestimar sempre o custo mínimo real. Para começar vamos ignorar as ruas pedonais e de sentido único e considerar que todas as ruas são bidireccionais. Notem que os trajectos ortogonais entre 2 pontos serão mínimos se todas as ruas forem bidireccionais. Para não sobrestimarmos o tempo real de um trajecto, assumimos que todas as ruas demoram o tempo da rua mais rápida. Assim, devido à existência de ruas pedonais e de sentido único e de ruas mais demoradas do que a mais rápida, o trajecto real óptimo pode ser ainda mais demorado.\n",
    "\n",
    "Vamos considerar que a heurística corresponde ao tempo de largar todos os passageiros no autocarro e apanhar e largar todos os que estejam fora do autocarro mais o tempo do trajecto maior possível por cliente. Se pensarmos que o autocarro tem um só cliente, calculamos o melhor trajecto para ele. O trajecto mais demorado entre todos os trajectos dos clientes será uma estimativa por baixo do tempo do trajecto real. Temos sempre que satisfazer o cliente mais demorado e fazer o trajecto óptimo para o levar ao destino e regressar à estação ou para o apanhar, levar ao destino e regressar à estação.\n",
    "\n",
    "Pensamos que esta heurística para além de admissível é também consistente. Para isso é necessário, considerando $X,Y$ estados do espaço do problema ligados por um arco ou acção: $\\forall _{X \\rightarrow Y} h(Y)-h(X) \\leq custo(X,Y)$ e todos os estados finais terão de ter um valor heurístico 0, i.e., $\\forall _{G} goal(G) \\Rightarrow h(G)=0$,  \n",
    "\n",
    "A seguir, vamos fazer uma descrição mais em pormenor da função heurística pedida que ilustraremos com *bons* exemplos."
   ]
  },
  {
   "cell_type": "markdown",
   "metadata": {},
   "source": [
    "### Descrição Detalhada da Função Heurística \n",
    "Vamos considerar duas situações para a definição da função heurística:\n",
    "\n",
    "* O autocarro está vazio e basta regressar à estação. Nesse caso, a função devolve o tempo mínimo entre a estação e a posição do autocarro.\n",
    "* Ainda há pessoas para largar ou pessoas para recolher e largar. Nesse caso vamos relaxar o problema e considerar apenas o mais demorado dos trajectos mínimos de cada cliente. Chamamos de mínimo porque assumimos que todas as ruas são bidireccionais e com a duração mais rápida. Ao tempo mínimo maior somamos o tempo gasto a carregar e descarregar todas pessoas fora do autocarro e a descarregar todas as pessoas dentro do autocarro.\n",
    "\n",
    "O tempo de cada pessoa que faz parte do estado é determinado da seguinte maneira: \n",
    "- se estiver no autocarro é o tempo mínimo que leva até ao seu destino + o tempo mínimo que leva do seu destino até à estação;\n",
    "- se for uma pessoa fora do autocarro é o tempo mínimo que leva do autocarro até a sua localização + o tempo mínimo que leva até o largar + o tempo mínimo para regressar à estação.\n",
    "\n",
    "Vamos chamar de tempo mínimo de uma posição X a uma posição Y, a distância de Manhatan de X a Y multiplicada pelo tempo associado à travessia da rua mais rápida.\n",
    "\n",
    "A distância de Manhatan entre dois pontos dá-nos o trajecto ortogonal mínimo entre dois pontos, em termos do número de ruas. Notem que a distância de manhatan entre dois pontos é a soma da diferença entre os valores absolutos das coordenadas respectivas: $manhatan((x1,y1),(x2,y2))=|x1-x2|+|y1-y2|$"
   ]
  },
  {
   "cell_type": "markdown",
   "metadata": {},
   "source": [
    "### Exemplo 1\n",
    "Vamos imaginar que o mundo é $5 \\times 5$, que não há ruas de tráfego ligeiro, que a estação está em $(0,0)$ e que temos 3 clientes, Dubenka, Lou e Gagarin, estão todos em $(1,2)$, em que Lou quer ir para $(3,3)$, e Gagarin e Dubenka vão ambos para $(2,3)$. O tempo de paragem por passageiro é de $10s$ e as ruas de tráfego médio demoram $300s$ a serem percorridas.\n",
    "\n",
    "Nesse caso, o valor da função heurística seria\n",
    "\n",
    "para o caso de Lou: $manhatan((0,0),(1,2))+manhatan((1,2),(3,3))+manhatan((3,3),(0,0))=3+3+6=12$\n",
    "\n",
    "para o caso de Gagarin:$manhatan((0,0),(1,2))+manhatan((1,2),(2,3))+manhatan((2,3),(0,0))=3+2+5=10$\n",
    "\n",
    "para o caso de Dubenka, o mesmo que Gagarin, pois a localização e destino são os mesmos: $10$\n",
    "\n",
    "O tempo de paragem será de $2 \\times 2 \\times 10s=40s$\n",
    "\n",
    "A função heurística devolverá $max(12,10) \\times 300s + 40s=3660s$\n"
   ]
  },
  {
   "cell_type": "markdown",
   "metadata": {},
   "source": [
    "### Exemplo 2\n",
    "Vamos imaginar uma grelha $25 \\times 25$, o autocarro na posição $(3,3)$, a estação em $(1,2)$, uma rua com intensidade ligeira é atravessada em média em $50s$ e o tempo de paragem por passageiro é estimado em $10s$, havendo ruas de tráfego ligeiro.\n",
    "\n",
    "e que temos dentro do autocarro:\n",
    "* Valdemar que quer sair na posição $(20,20)$\n",
    "* Zulu que quer sair na posição $(2,2)$\n",
    "    \n",
    "e fora do autocarro:\n",
    "* Francis que está em $(10,10)$ e quer sair em $(4,4)$\n",
    "* Berta que está em $(0,0)$ e quer sair em $(7,0)$\n",
    "    \n",
    "Neste caso as distâncias dos trajectos mínimos de cada um dos passageiros seriam:\n",
    "\n",
    "* Distância do trajecto de Valdemar$=34+37=71$\n",
    "(34 de distância do autocarro para o destino + 37 do destino para a estação)\n",
    "* Distância do trajecto de Zulu$=2+1=3$\n",
    "* Distância do trajecto de Francis=$14+12+5=31$\n",
    "(14 a distância do autocarro a Francis, depois 12 até ao seu destino e 5 de regresso à estação) \n",
    "* Distância do trajecto de Berta$=6+7+8=21$\n",
    "\n",
    "Os trajectos seriam multiplicados pelo tempo para atravessar uma rua ligeira que é de $50s$, obtendo os tempos mínimos de cada um dos passageiros.\n",
    "\n",
    "Bom, o tempo mínimo maior: $71\\times50s=3550s$\n",
    "\n",
    "O tempo para carregar Francis e Berta e descarregar as 4 pessoas: $(2+2\\times2) \\times 10=60s$\n",
    "\n",
    "O valor da função heurística seria $3550s+60s=3610s$"
   ]
  },
  {
   "cell_type": "markdown",
   "metadata": {},
   "source": [
    "### Exemplo 3\n",
    "Para a mesma grelha $25 \\times 25$, a estação é em $(1,2)$, i.e., em tudo semelhante ao mundo anterior, mas em que o autocarro está na estação com o Francis e a Berta e ninguém lá fora à espera\n",
    "```python\n",
    "capacidade=5\n",
    "estacao=(1,2)\n",
    "pedonais={((4,3),(4,4))}\n",
    "sentidoUnico={((3,3),(3,2)),((1,2),(2,2))}\n",
    "intenso={((3,2),(3,3)),(3,1),(3,2),((2,0),(2,1))}\n",
    "ligeiro={((2,1),(2,2))}\n",
    "tempos={'ligeiro': 50, 'médio': 300, 'intenso': 1000}\n",
    "tempoPassageiro=10\n",
    "clientes={'Jim':((1,1),(3,3)),'Valdemar':((3,2),(20,20)),'Francis':((10,10),(4,4)),'Berta':((0,0),(7,0)),'Zulu':((1,3),(2,2))}\n",
    "```\n",
    "\n",
    "Para esse caso, a função heurística devolve $1740s$."
   ]
  },
  {
   "cell_type": "markdown",
   "metadata": {},
   "source": [
    "### Exemplo 4\n",
    "```python\n",
    "dim=6\n",
    "capacidade=5\n",
    "estacao=(1,2)\n",
    "pedonais={((4,3),(4,4)),((0,0),(0,1)),((4,4),(4,5))}\n",
    "sentidoUnico={((3,3),(3,2)),((1,2),(2,2))}\n",
    "intenso={((3,2),(3,3)),(3,1),(3,2),((2,0),(2,1))}\n",
    "ligeiro={((2,1),(2,2)),((2,2),(2,3)),((4,0),(4,1))}\n",
    "tempos={'ligeiro': 60, 'médio': 200, 'intenso': 900}\n",
    "tempoPassageiro=10\n",
    "clientes={'Jim':((1,1),(3,3)),'Valdemar':((3,2),(0,3)),'Francis':((3,4),(5,0)),'Berta':((0,0),(3,3)),'Zulu':((1,3),(4,2))}\n",
    "\n",
    "mundoX=MundoBus(dim,estacao,capacidade,pedonais,sentidoUnico,intenso,ligeiro,tempos,tempoPassageiro,clientes)\n",
    "\n",
    "Para este problema o A* devolve a seguinte solução e custo\n",
    "\n",
    "['s', ([], ['Jim']), 's', 'o', ([], ['Berta']), 'e', 'n', 'n', 'n', ([], ['Zulu']), 'e', 'e', (['Berta', 'Jim'], []), 'n', ([], ['Francis']), 's', 'e', 's', (['Zulu'], []), 's', 's', 'e', (['Francis'], []), 'o', 'n', 'o', 'n', ([], ['Valdemar']), 'o', 'n', 'o', 'o', (['Valdemar'], []), 's', 'e']\n",
    "4880\n",
    "```"
   ]
  },
  {
   "cell_type": "markdown",
   "metadata": {},
   "source": [
    "## A classe OBus\n",
    "Fornecemos uma implementação da formulação do problema do autocarro, para ser igual para todos, a qual devem adicionar o código da função heurística, a que chamámos de `h1`. Existe um método chamado de prettyAction que pega numa acção e devolve-a de um modo mais adequado para ser avaliada automaticamente. Não modifica as *strings* em {\"n\",\"s\",\"e\",\"0\"}, mas as acções de apanhar/largar são tuplos $(Larga,Agarra)$ mas em que Larga e Agarra em vez de serem conjuntos, são listas ordenadas pelos identificadores dos respectivos clientes. Temos de fazer a correcção automática e como não se garante que os conjuntos saiam sempre iguais quando se faz `print`, teremos de usar listas ordenadas. Existe também um método prettyPlan que recebe uma lista de acções e devolve-a numa forma que seja avaliada automaticamente."
   ]
  },
  {
   "cell_type": "code",
   "execution_count": 5,
   "metadata": {},
   "outputs": [
    {
     "name": "stdout",
     "output_type": "stream",
     "text": [
      "1230\n"
     ]
    }
   ],
   "source": [
    "import itertools\n",
    "from copy import deepcopy\n",
    "from elEstadoMundo import *\n",
    "from searchPlus import *\n",
    "\n",
    "# Mundo por defeito\n",
    "estacao=(0,0)\n",
    "pedonais={((4,3),(4,4))}\n",
    "sentidoUnico={((3,3),(3,2)),((1,2),(2,2))}\n",
    "intenso={((3,2),(3,3))}\n",
    "ligeiro={}\n",
    "tempos={'ligeiro': 100, 'médio': 300, 'intenso': 1000}\n",
    "tempoPassageiro=10\n",
    "clientes={'Lou':((1,2),(3,3)),'Gagarin':((1,2),(2,3)),'Dubenka':((1,2),(2,3))}\n",
    "\n",
    "mundoDef=MundoBus(5,estacao,2,pedonais,sentidoUnico,intenso,ligeiro,tempos,tempoPassageiro,clientes)\n",
    "\n",
    "class OBus(Problem):\n",
    "\n",
    "    \n",
    "    tabMovs={'e':(1,0),'n':(0,1),'o':(-1,0),'s':(0,-1)}\n",
    "    \n",
    "    def __init__(self, initial=None,goal=None, mundo=mundoDef):\n",
    "        \"\"\"O objectivo é o tuplo ordenado por ordem crescente e o estado inicial é uma permutação de range(1, n+1).\n",
    "        \"\"\"\n",
    "        self.mundo=mundo\n",
    "        self.initial = EstadoBus(mundo.estacao,set(mundo.clientes.keys()),set())\n",
    "        self.goal=EstadoBus(mundo.estacao,set(),set())\n",
    "\n",
    "    def move(pos,accao):\n",
    "        x,y=pos\n",
    "        incX,incY=OBus.tabMovs[accao]\n",
    "        return ((x+incX) ,(y+incY))\n",
    "    \n",
    "    def actions(self, state):\n",
    "        \"\"\" As acções aplicáveis\n",
    "        \"\"\"\n",
    "        out=[]\n",
    "        for a in [\"e\",\"n\",\"o\",\"s\"]:\n",
    "            x,y=state.pos\n",
    "            incX,incY=OBus.tabMovs[a]\n",
    "            new=((x+incX),(y+incY))\n",
    "            if 0<=(x+incX)< self.mundo.dim and 0<=(y+incY)< self.mundo.dim and \\\n",
    "               (state.pos,new) not in self.mundo.pedonais and \\\n",
    "               (new,state.pos) not in self.mundo.pedonais and \\\n",
    "               (new,state.pos) not in self.mundo.sentidoUnico:\n",
    "                out.append(a)\n",
    "        ## all that should drop will drop\n",
    "        droppingNum=0\n",
    "        drops=set()\n",
    "        for d in state.destinos:\n",
    "            if self.mundo.clientes[d][1]==state.pos:\n",
    "                drops.add(d)\n",
    "                droppingNum+=1   \n",
    "\n",
    "        ## the most that can be picked up will be picked up\n",
    "        ## that depends on the bus capacity\n",
    "        allPossiblePickups=[p for p in state.pickup if self.mundo.clientes[p][0]==state.pos]\n",
    "        allPossiblePickups.sort()  # ordena\n",
    "\n",
    "        freePlacesNum=self.mundo.capacidade-(len(state.destinos)-droppingNum)\n",
    "\n",
    "        pickupNum=min(freePlacesNum,len(allPossiblePickups))\n",
    "        if pickupNum!=0:\n",
    "            acts=[(drops,set(x)) for x in (itertools.combinations(allPossiblePickups, pickupNum))]\n",
    "        elif drops!=set():\n",
    "            acts=[(drops,set())]\n",
    "        else:\n",
    "            acts = []\n",
    "        return acts + out\n",
    "\n",
    "    def result(self, estado, accao):\n",
    "        \"\"\"Acções de movimento e de pickup and drop. \n",
    "            \"n\", \"s\", \"l\", \"o\" e (pickupSet,DestinosSet)\n",
    "        \"\"\"\n",
    "\n",
    "        if type(accao)==str:\n",
    "            newPos=OBus.move(estado.pos,accao)\n",
    "            return EstadoBus(newPos,estado.pickup,estado.destinos)\n",
    "        else:\n",
    "            drop,pickingUp=accao\n",
    "            \n",
    "            # dropping all people that go out of the bus here and \n",
    "            # the pickupers will be destinies\n",
    "            moreDestinos=pickingUp.copy()\n",
    "            newDestinos=(estado.destinos.copy() - drop).union(moreDestinos)\n",
    "            \n",
    "            # update pickup\n",
    "            newPickup=deepcopy(estado.pickup)-pickingUp\n",
    "            newPos=estado.pos\n",
    "\n",
    "        return EstadoBus(newPos,newPickup,newDestinos)\n",
    "    \n",
    "    \n",
    "    def path_cost(self, c, state1,action,next_state):\n",
    "        \"\"\" As acções de movimento têm custos associados ao tempo para a travessia que depende do tipo de rua\n",
    "            As acções de apanhar/largar pessoas têm um custo que corresponde ao número de pessoas que saiem e entram\n",
    "            a multiplicar pelo tempo médio que demora cada pessoa a entrar ou sair.\n",
    "        \"\"\"\n",
    "        if type(action)==str:\n",
    "            if (state1.pos,next_state.pos) in self.mundo.ligeiro or (next_state.pos,state1.pos) in self.mundo.ligeiro:\n",
    "                custo=self.mundo.tempos['ligeiro']\n",
    "            elif (state1.pos,next_state.pos) in self.mundo.intenso or (next_state.pos,state1.pos) in self.mundo.intenso:\n",
    "                custo=self.mundo.tempos['intenso']\n",
    "            else:\n",
    "                custo=self.mundo.tempos['médio']\n",
    "            return c+custo\n",
    "        return c+(len(action[0])+len(action[1]))*self.mundo.tempoPassageiro\n",
    "    \n",
    "    def prettyAction(self,a):\n",
    "        a1,a2=a\n",
    "        a1=list(a1)\n",
    "        a1.sort()\n",
    "        a2=list(a2)\n",
    "        a2.sort()\n",
    "        return ((a1,a2))\n",
    "\n",
    "    def prettyPlan(self,plan):\n",
    "        prettyP=[]\n",
    "        for a in plan:\n",
    "            if type(a)==str:\n",
    "                prettyP.append(a)\n",
    "            else:\n",
    "                prettyP.append(self.prettyAction(a))\n",
    "        return prettyP\n",
    "\n",
    "    def dist(x1,y1,x2,y2):\n",
    "        return abs(x1 - x2) + abs(y1 - y2)\n",
    "    \n",
    "    def h1(self,node):\n",
    "        if len(node.state.pickup) == 0 and len(node.state.destinos) == 0: # se nao houver mais passageiros\n",
    "            return OBus.dist(self.mundo.estacao[0], node.state.pos[0], self.mundo.estacao[1], node.state.pos[1]) # retorna distancia a estacao\n",
    "\n",
    "        else:\n",
    "            tempos = list()\n",
    "            if len(node.state.pickup) != 0:\n",
    "                for p in node.state.pickup:\n",
    "                    c = self.mundo.clientes.get(p)\n",
    "                    # distancia do autocarro ao cliente + distancia do cliente ao destino + distancia do destino a estacao\n",
    "                    tempos.append(OBus.dist(node.state.pos[0], c[0][0], node.state.pos[1], c[0][1]) + \\\n",
    "                                  OBus.dist(c[0][0], c[1][0], c[0][1], c[1][1]) + \\\n",
    "                                  OBus.dist(self.mundo.estacao[0], c[1][0], self.mundo.estacao[1], c[1][1]))\n",
    "            if len(node.state.destinos) != 0:\n",
    "                for d in node.state.destinos:\n",
    "                    c = self.mundo.clientes.get(d)\n",
    "                    # distancia do autocarro ao destino + distancia do destino a estacao\n",
    "                    tempos.append(OBus.dist(node.state.pos[0], c[1][0], node.state.pos[1], c[1][1]) + \\\n",
    "                                  OBus.dist(self.mundo.estacao[0], c[1][0], self.mundo.estacao[1], c[1][1]))\n",
    "                                  \n",
    "            # calcular o tempo minimo maior\n",
    "            m = max(tempos)\n",
    "            # calcular o tempo do tipo de estrada\n",
    "            if len(self.mundo.ligeiro) != 0:\n",
    "                t = self.mundo.tempos.get(\"ligeiro\")\n",
    "            else: #instenso??\n",
    "                t = self.mundo.tempos.get(\"médio\")\n",
    "\n",
    "            # calcular tempo de movimento\n",
    "            t *= m\n",
    "\n",
    "            # calcular tempo de entradas e saidas\n",
    "            e = (len(node.state.pickup) + len(node.state.destinos)) * self.mundo.tempoPassageiro\n",
    "\n",
    "            return e + t\n",
    "capacidade=5\n",
    "estacao=(1,2)\n",
    "pedonais={((4,3),(4,4))}\n",
    "sentidoUnico={((3,3),(3,2)),((1,2),(2,2))}\n",
    "intenso={((3,2),(3,3)),(3,1),(3,2),((2,0),(2,1))}\n",
    "ligeiro={((2,1),(2,2))}\n",
    "tempos={'ligeiro': 50, 'médio': 300, 'intenso': 1000}\n",
    "tempoPassageiro=10\n",
    "clientes={'Jim':((1,1),(3,3)),'Valdemar':((3,2),(20,20)),'Francis':((10,10),(4,4)),'Berta':((0,0),(7,0)),'Zulu':((1,3),(2,2))}\n",
    "p=OBus()\n",
    "print(p.h1(Node(p.initial)))\n",
    "    \n",
    "   \n"
   ]
  },
  {
   "cell_type": "markdown",
   "metadata": {},
   "source": [
    "## Nota\n",
    "* A função heurística valerá $0.625$"
   ]
  },
  {
   "cell_type": "markdown",
   "metadata": {},
   "source": [
    "## Ficheiros anexos e imports\n",
    "O ficheiro `elEstadoMundo.py` continua a ter que ser importado, juntamente com `utils.py` e `searchPlus.py`, os quais não devem ser alterados. Podem importar os módulos que desejarem."
   ]
  },
  {
   "cell_type": "markdown",
   "metadata": {},
   "source": [
    "## Deadline\n",
    "Esta avaliação contínua é **individual** e terá **correcção automática** sendo submetida através de um quiz na página da disciplina. Para essa correcção automática iremos disponibilizar alguns testes que serão visíveis e outros testes invisíveis. Podem fazer *check* e *submit* as vezes que quiserem, sem quaisquer penalizações, e a nota final será a da tentativa mais elevada sendo a última tentativa submetida automaticamente no fecho do Quiz.\n",
    "\n",
    "O prazo é Terça-feira, $1 \\space de \\space Novembro,\\space às\\space 23:59$."
   ]
  },
  {
   "cell_type": "markdown",
   "metadata": {},
   "source": [
    "<img src=\"Figuras\\old-ukrainian-bus-2773390.JPG\" alt=\"Drawing\" style=\"width: 350px;\"/>"
   ]
  }
 ],
 "metadata": {
  "kernelspec": {
   "display_name": "Python 3.10.7 64-bit",
   "language": "python",
   "name": "python3"
  },
  "language_info": {
   "codemirror_mode": {
    "name": "ipython",
    "version": 3
   },
   "file_extension": ".py",
   "mimetype": "text/x-python",
   "name": "python",
   "nbconvert_exporter": "python",
   "pygments_lexer": "ipython3",
   "version": "3.10.7"
  },
  "vscode": {
   "interpreter": {
    "hash": "1e18c1a55377fd1423d44964f2b377bbbd3dd4702a92964ed2006009ff3bee9f"
   }
  }
 },
 "nbformat": 4,
 "nbformat_minor": 2
}
